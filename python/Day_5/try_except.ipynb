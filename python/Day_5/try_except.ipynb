{
 "cells": [
  {
   "cell_type": "markdown",
   "metadata": {},
   "source": [
    "#### Error Handling\n",
    "###### *Type Error\n",
    "###### *Overflow Error\n",
    "###### *Intendation Error\n"
   ]
  },
  {
   "cell_type": "code",
   "execution_count": 10,
   "metadata": {},
   "outputs": [
    {
     "name": "stdout",
     "output_type": "stream",
     "text": [
      "First value is  45\n",
      "Value Error\n",
      "45 sjhj\n"
     ]
    }
   ],
   "source": [
    "try:\n",
    "    val1=int(input(\"Enter name:\"))  \n",
    "    print(\"First value is \",val1)\n",
    "    val2 =int(input(\"enter the value:\"))\n",
    "    print(\"second value is \",val2)\n",
    "except ValueError:\n",
    "    print(\"Value Error\")\n",
    "\n",
    "print(val1, val2)\n",
    "\n"
   ]
  },
  {
   "cell_type": "code",
   "execution_count": 18,
   "metadata": {},
   "outputs": [
    {
     "name": "stdout",
     "output_type": "stream",
     "text": [
      "Type Error\n",
      "dghfduy\n"
     ]
    }
   ],
   "source": [
    "try:\n",
    "    val1=input(\"Enter value :\")\n",
    "    print(\"First value is \",val1-2)\n",
    "except TypeError:\n",
    "    print(\"Type Error\")\n",
    "\n",
    "print(val1)"
   ]
  },
  {
   "cell_type": "code",
   "execution_count": null,
   "metadata": {},
   "outputs": [],
   "source": [
    "try:\n",
    "\tif True:\n",
    "\t\tprint(\"1\")\n",
    "\t\tif True:\n",
    "\t\t\tprint(\"2\")\n",
    "\t\t\tif True:\n",
    "\t\t\t\tprint(\"3\")\n",
    "\t\t\t\tif True:\n",
    "\t\t\t\t\tprint(\"4\")\n",
    "                        print(\"5\")\n",
    "except IndentationError:\n",
    "\tprint(\"IndentationError\")\n",
    "\n",
    "print(\"hlo\")"
   ]
  }
 ],
 "metadata": {
  "kernelspec": {
   "display_name": "venv",
   "language": "python",
   "name": "python3"
  },
  "language_info": {
   "codemirror_mode": {
    "name": "ipython",
    "version": 3
   },
   "file_extension": ".py",
   "mimetype": "text/x-python",
   "name": "python",
   "nbconvert_exporter": "python",
   "pygments_lexer": "ipython3",
   "version": "3.12.0"
  }
 },
 "nbformat": 4,
 "nbformat_minor": 2
}
