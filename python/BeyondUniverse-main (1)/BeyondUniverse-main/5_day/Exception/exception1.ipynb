{
 "cells": [
  {
   "cell_type": "code",
   "execution_count": 3,
   "metadata": {},
   "outputs": [
    {
     "name": "stdout",
     "output_type": "stream",
     "text": [
      "hello world\n"
     ]
    }
   ],
   "source": [
    "print(\"hello world\")"
   ]
  },
  {
   "cell_type": "markdown",
   "metadata": {},
   "source": [
    "Exception handling in Python using try, except, and finally blocks allows you to gracefully handle errors and perform cleanup operations. Here are examples demonstrating their usage:\n",
    "Example 1: Basic Exception Handling"
   ]
  },
  {
   "cell_type": "code",
   "execution_count": 5,
   "metadata": {},
   "outputs": [
    {
     "name": "stdout",
     "output_type": "stream",
     "text": [
      "Error: Invalid input! Please enter valid integers.\n",
      "Cleanup code in 'finally' block\n"
     ]
    }
   ],
   "source": [
    "try:\n",
    "    # Code block where an exception might occur\n",
    "    num1 = int(input(\"Enter a number: \"))\n",
    "    num2 = int(input(\"Enter another number: \"))\n",
    "    result = num1 / num2\n",
    "    print(\"Result:\", result)\n",
    "\n",
    "except ZeroDivisionError:\n",
    "    # Handle specific exception (division by zero)\n",
    "    print(\"Error: Division by zero!\")\n",
    "\n",
    "except ValueError:\n",
    "    # Handle specific exception (invalid input for int conversion)\n",
    "    print(\"Error: Invalid input! Please enter valid integers.\")\n",
    "\n",
    "except Exception as e:\n",
    "    # Handle any other unexpected exceptions\n",
    "    print(\"An error occurred:\", e)\n",
    "\n",
    "finally:\n",
    "    # Optional: Cleanup code that runs regardless of whether an exception occurred\n",
    "    print(\"Cleanup code in 'finally' block\")\n"
   ]
  },
  {
   "cell_type": "markdown",
   "metadata": {},
   "source": [
    "Example 2: Handling File Operations"
   ]
  },
  {
   "cell_type": "code",
   "execution_count": 6,
   "metadata": {},
   "outputs": [
    {
     "name": "stdout",
     "output_type": "stream",
     "text": [
      "Error: File not found!\n",
      "Cleanup code in 'finally' block (file operations)\n"
     ]
    }
   ],
   "source": [
    "try:\n",
    "    # Open and read a file\n",
    "    with open('nonexistent_file.txt', 'r') as f:\n",
    "        content = f.read()\n",
    "        print(\"File content:\", content)\n",
    "\n",
    "except FileNotFoundError:\n",
    "    print(\"Error: File not found!\")\n",
    "\n",
    "except IOError as e:\n",
    "    print(f\"Error reading file: {e}\")\n",
    "\n",
    "except Exception as e:\n",
    "    print(\"An error occurred:\", e)\n",
    "\n",
    "finally:\n",
    "    print(\"Cleanup code in 'finally' block (file operations)\")\n"
   ]
  },
  {
   "cell_type": "markdown",
   "metadata": {},
   "source": [
    "Example 3: Custom Exception Handling"
   ]
  },
  {
   "cell_type": "code",
   "execution_count": 7,
   "metadata": {},
   "outputs": [
    {
     "name": "stdout",
     "output_type": "stream",
     "text": [
      "Custom error caught: Custom error message\n",
      "Cleanup code in 'finally' block (custom exception)\n"
     ]
    }
   ],
   "source": [
    "# Define a custom exception\n",
    "class CustomError(Exception):\n",
    "    pass\n",
    "\n",
    "try:\n",
    "    # Simulate raising a custom exception\n",
    "    raise CustomError(\"Custom error message\")\n",
    "\n",
    "except CustomError as e:\n",
    "    print(\"Custom error caught:\", e)\n",
    "\n",
    "except Exception as e:\n",
    "    print(\"An error occurred:\", e)\n",
    "\n",
    "finally:\n",
    "    print(\"Cleanup code in 'finally' block (custom exception)\")\n"
   ]
  },
  {
   "cell_type": "markdown",
   "metadata": {},
   "source": [
    "In these examples:\n",
    "\n",
    "    The try block contains the code where an exception might occur.\n",
    "    The except block catches specific exceptions (ZeroDivisionError, ValueError, FileNotFoundError, IOError) or a generic Exception (catches all exceptions).\n",
    "    The finally block contains cleanup code that runs regardless of whether an exception occurred or not.\n",
    "\n",
    "Custom exceptions can be defined by creating a new class that inherits from Exception. You can raise and handle these custom exceptions similar to built-in exceptions.\n",
    "\n",
    "Adjust the examples as needed for your specific use case and exception handling requirements."
   ]
  }
 ],
 "metadata": {
  "kernelspec": {
   "display_name": "venv",
   "language": "python",
   "name": "python3"
  },
  "language_info": {
   "codemirror_mode": {
    "name": "ipython",
    "version": 3
   },
   "file_extension": ".py",
   "mimetype": "text/x-python",
   "name": "python",
   "nbconvert_exporter": "python",
   "pygments_lexer": "ipython3",
   "version": "3.12.2"
  }
 },
 "nbformat": 4,
 "nbformat_minor": 2
}
