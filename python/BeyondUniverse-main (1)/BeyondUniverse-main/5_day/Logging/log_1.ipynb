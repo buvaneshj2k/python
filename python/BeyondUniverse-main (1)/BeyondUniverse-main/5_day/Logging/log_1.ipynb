{
 "cells": [
  {
   "cell_type": "code",
   "execution_count": 1,
   "metadata": {},
   "outputs": [
    {
     "name": "stdout",
     "output_type": "stream",
     "text": [
      "hello world\n"
     ]
    }
   ],
   "source": [
    "print(\"hello world\")"
   ]
  },
  {
   "cell_type": "markdown",
   "metadata": {},
   "source": [
    "Logging in Python is an essential tool for understanding and debugging your code. The logging module in Python provides a flexible and powerful way to log messages at various levels of severity, capture important information during program execution, and manage log output to different destinations. Here's an overview of logging in Python and how to use the logging module effectively:\n",
    "Basic Logging Example:"
   ]
  },
  {
   "cell_type": "code",
   "execution_count": 2,
   "metadata": {},
   "outputs": [],
   "source": [
    "import logging\n",
    "\n",
    "# Configure logging\n",
    "logging.basicConfig(\n",
    "    level=logging.DEBUG,  # Set the logging level\n",
    "    format='%(asctime)s - %(levelname)s - %(message)s',  # Define log message format\n",
    "    filename='app.log',  # Log output file\n",
    "    filemode='w'  # Set file mode to write (create new log file)\n",
    ")\n",
    "\n",
    "# Create a logger object\n",
    "logger = logging.getLogger()\n",
    "\n",
    "# Log messages\n",
    "logger.debug('This is a debug message')\n",
    "logger.info('This is an info message')\n",
    "logger.warning('This is a warning message')\n",
    "logger.error('This is an error message')\n",
    "logger.critical('This is a critical message')\n"
   ]
  },
  {
   "cell_type": "markdown",
   "metadata": {},
   "source": [
    "Logging Levels:\n",
    "\n",
    "    DEBUG: Detailed information, useful for debugging.\n",
    "    INFO: General information about program execution.\n",
    "    WARNING: Indication that something unexpected happened or potential issues.\n",
    "    ERROR: Indication of errors that caused a function to fail.\n",
    "    CRITICAL: Serious errors that may lead to program termination.\n",
    "\n",
    "Logging Configuration:\n",
    "\n",
    "    basicConfig(): Configures the logging system globally.\n",
    "    Custom configuration using Logger, Formatter, Handler objects.\n",
    "\n",
    "Log Handlers:\n",
    "\n",
    "    StreamHandler: Sends logs to the console (stdout/stderr).\n",
    "    FileHandler: Writes logs to a file.\n",
    "    RotatingFileHandler: Writes logs to a file with rotation based on file size.\n",
    "    SysLogHandler: Sends logs to the system log on Unix systems.\n",
    "    SMTPHandler: Sends logs via email.\n",
    "\n",
    "Log Formatting:\n",
    "\n",
    "    %(asctime)s: Timestamp of the log message.\n",
    "    %(levelname)s: Log level (DEBUG, INFO, WARNING, ERROR, CRITICAL).\n",
    "    %(message)s: The log message itself.\n",
    "    Custom formatting options can be added.\n",
    "\n",
    "Advanced Logging:\n",
    "\n",
    "    Logging to multiple destinations using multiple handlers.\n",
    "    Configuring loggers for different parts of the application.\n",
    "    Handling exceptions and logging traceback information.\n",
    "\n",
    "Example of Logging to Console and File:"
   ]
  },
  {
   "cell_type": "code",
   "execution_count": 3,
   "metadata": {},
   "outputs": [
    {
     "name": "stderr",
     "output_type": "stream",
     "text": [
      "2024-03-21 23:21:45,837 - INFO - This is an info message\n",
      "2024-03-21 23:21:45,841 - WARNING - This is a warning message\n",
      "2024-03-21 23:21:45,844 - ERROR - This is an error message\n",
      "2024-03-21 23:21:45,846 - CRITICAL - This is a critical message\n"
     ]
    }
   ],
   "source": [
    "import logging\n",
    "\n",
    "# Create logger\n",
    "logger = logging.getLogger()\n",
    "logger.setLevel(logging.DEBUG)\n",
    "\n",
    "# Create console handler and set level to INFO\n",
    "console_handler = logging.StreamHandler()\n",
    "console_handler.setLevel(logging.INFO)\n",
    "\n",
    "# Create file handler and set level to DEBUG\n",
    "file_handler = logging.FileHandler('app.log')\n",
    "file_handler.setLevel(logging.DEBUG)\n",
    "\n",
    "# Create formatter and add it to the handlers\n",
    "formatter = logging.Formatter('%(asctime)s - %(levelname)s - %(message)s')\n",
    "console_handler.setFormatter(formatter)\n",
    "file_handler.setFormatter(formatter)\n",
    "\n",
    "# Add the handlers to the logger\n",
    "logger.addHandler(console_handler)\n",
    "logger.addHandler(file_handler)\n",
    "\n",
    "# Test logging\n",
    "logger.debug('This is a debug message')\n",
    "logger.info('This is an info message')\n",
    "logger.warning('This is a warning message')\n",
    "logger.error('This is an error message')\n",
    "logger.critical('This is a critical message')\n"
   ]
  },
  {
   "cell_type": "markdown",
   "metadata": {},
   "source": [
    "In this example, logs are simultaneously sent to the console and written to the app.log file. Adjust the logging level, format, and handlers according to your application's logging requirements.\n",
    "\n",
    "Logging is a powerful tool for understanding program behavior, diagnosing issues, and monitoring applications in production. By utilizing the logging module effectively, you can improve code quality, debug efficiently, and maintain robust applications."
   ]
  },
  {
   "cell_type": "code",
   "execution_count": null,
   "metadata": {},
   "outputs": [],
   "source": []
  }
 ],
 "metadata": {
  "kernelspec": {
   "display_name": "venv",
   "language": "python",
   "name": "python3"
  },
  "language_info": {
   "codemirror_mode": {
    "name": "ipython",
    "version": 3
   },
   "file_extension": ".py",
   "mimetype": "text/x-python",
   "name": "python",
   "nbconvert_exporter": "python",
   "pygments_lexer": "ipython3",
   "version": "3.12.2"
  }
 },
 "nbformat": 4,
 "nbformat_minor": 2
}
