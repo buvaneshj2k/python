{
 "cells": [
  {
   "cell_type": "code",
   "execution_count": 1,
   "metadata": {},
   "outputs": [
    {
     "name": "stdout",
     "output_type": "stream",
     "text": [
      "hello world\n"
     ]
    }
   ],
   "source": [
    "print(\"hello world\")"
   ]
  },
  {
   "cell_type": "markdown",
   "metadata": {},
   "source": [
    "Working with JSON (JavaScript Object Notation) files in Python involves reading JSON data from a file or string and writing JSON data to a file. Python provides the json module for easy handling of JSON data. Here's how you can read and write JSON files in Python:\n",
    "Reading JSON Files:\n",
    "\n",
    "    Using json.load:\n",
    "        Use json.load to load JSON data from a file."
   ]
  },
  {
   "cell_type": "code",
   "execution_count": null,
   "metadata": {},
   "outputs": [],
   "source": [
    "import json\n",
    "\n",
    "# Open the JSON file in read mode\n",
    "with open('data.json', 'r') as file:\n",
    "    # Load JSON data\n",
    "    data = json.load(file)\n",
    "\n",
    "# Now 'data' contains the JSON data as a Python dictionary\n",
    "print(data)\n"
   ]
  }
 ],
 "metadata": {
  "kernelspec": {
   "display_name": "venv",
   "language": "python",
   "name": "python3"
  },
  "language_info": {
   "codemirror_mode": {
    "name": "ipython",
    "version": 3
   },
   "file_extension": ".py",
   "mimetype": "text/x-python",
   "name": "python",
   "nbconvert_exporter": "python",
   "pygments_lexer": "ipython3",
   "version": "3.12.2"
  }
 },
 "nbformat": 4,
 "nbformat_minor": 2
}
