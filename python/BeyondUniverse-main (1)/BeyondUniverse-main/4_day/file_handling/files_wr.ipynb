{
 "cells": [
  {
   "cell_type": "code",
   "execution_count": 1,
   "metadata": {},
   "outputs": [
    {
     "name": "stdout",
     "output_type": "stream",
     "text": [
      "hello world\n"
     ]
    }
   ],
   "source": [
    "print(\"hello world\")"
   ]
  },
  {
   "cell_type": "markdown",
   "metadata": {},
   "source": [
    "File handling in Python involves working with files on the disk, including reading from and writing to files. Python provides built-in functions and methods to perform various file operations. Here are examples demonstrating file handling in Python:\n",
    "1. Opening and Reading Files:\n",
    "a. Opening a File:\n",
    "\n",
    "You can open a file using the open() function, specifying the file path and mode (read, write, append, etc.)."
   ]
  },
  {
   "cell_type": "code",
   "execution_count": 1,
   "metadata": {},
   "outputs": [],
   "source": [
    "# Opening a file in read mode\n",
    "file_path = \"sample.txt\"\n",
    "file = open(file_path, \"r\")  # \"r\" for read mode\n",
    "\n",
    "# Perform operations on the file\n",
    "\n",
    "# Remember to close the file after operations\n",
    "file.close()\n"
   ]
  },
  {
   "cell_type": "markdown",
   "metadata": {},
   "source": [
    "b. Reading File Contents:\n",
    "\n",
    "You can read the contents of a file using various methods like read(), readline(), or readlines()."
   ]
  },
  {
   "cell_type": "code",
   "execution_count": 5,
   "metadata": {},
   "outputs": [
    {
     "name": "stdout",
     "output_type": "stream",
     "text": [
      "<_io.TextIOWrapper name='sample.txt' mode='r' encoding='cp1252'>\n"
     ]
    }
   ],
   "source": [
    "# Using read() method to read the entire file contents\n",
    "file = open(\"sample.txt\", \"r\")\n",
    "print(file)\n",
    "content = file.read()\n",
    "print(content)\n",
    "file.close()\n"
   ]
  },
  {
   "cell_type": "markdown",
   "metadata": {},
   "source": [
    "c. Using Context Managers (with statement):\n",
    "\n",
    "Using the with statement ensures that the file is properly closed after operations, even if an exception occurs."
   ]
  },
  {
   "cell_type": "code",
   "execution_count": 6,
   "metadata": {},
   "outputs": [
    {
     "name": "stdout",
     "output_type": "stream",
     "text": [
      "hai hello welocome. vijay is a superman\n",
      "\n"
     ]
    }
   ],
   "source": [
    "# Using with statement to automatically close the file\n",
    "with open(\"sample.txt\", \"r\") as file:\n",
    "    content = file.read()\n",
    "    print(content)\n"
   ]
  },
  {
   "cell_type": "markdown",
   "metadata": {},
   "source": [
    "2. Writing to Files:\n",
    "a. Opening a File in Write Mode:\n",
    "\n",
    "You can open a file in write mode (\"w\") to write content to it. Be cautious, as this mode will overwrite the existing content."
   ]
  },
  {
   "cell_type": "code",
   "execution_count": 8,
   "metadata": {},
   "outputs": [],
   "source": [
    "# Opening a file in write mode and writing content\n",
    "with open(\"output.txt\", \"w\") as file:\n",
    "    # file.write(\"Hello, this is a test file!\\n\")\n",
    "    # file.write(\"Writing to files in Python is easy.\")\n",
    "    file.write(\"vijay\")"
   ]
  },
  {
   "cell_type": "markdown",
   "metadata": {},
   "source": [
    "b. Appending to Files:\n",
    "\n",
    "To add content to a file without overwriting existing content, open the file in append mode (\"a\")."
   ]
  },
  {
   "cell_type": "code",
   "execution_count": 11,
   "metadata": {},
   "outputs": [],
   "source": [
    "# Opening a file in append mode and adding content\n",
    "with open(\"output.txt\", \"a\") as file:\n",
    "    file.write(\"Appending additional content.\")\n"
   ]
  },
  {
   "cell_type": "markdown",
   "metadata": {},
   "source": [
    "3. File Handling Best Practices:\n",
    "\n",
    "    Always close files after operations using the close() method or by using the with statement.\n",
    "    Use appropriate file modes (\"r\", \"w\", \"a\", \"r+\", etc.) based on your needs.\n",
    "    Handle file exceptions using try and except blocks to manage errors gracefully.\n",
    "    Use context managers (with statement) for automatic resource management and to ensure file closure.\n",
    "\n",
    "File handling is an essential aspect of programming for reading and writing data to and from files. "
   ]
  },
  {
   "cell_type": "markdown",
   "metadata": {},
   "source": [
    "### Different file handling modes in python."
   ]
  },
  {
   "cell_type": "markdown",
   "metadata": {},
   "source": [
    "file handling modes specify the operations that can be performed on a file when it is opened. Each mode defines a set of permissions and behaviors for reading from, writing to, or appending to a file. Here are the different file handling modes in Python:\n",
    "1. Read Modes:\n",
    "\n",
    "    \"r\" : Opens a file for reading. It raises an error if the file does not exist.\n",
    "\n",
    "    \"rb\": Opens a file for reading in binary mode.\n",
    "\n",
    "    \"r+\": Opens a file for both reading and writing. It raises an error if the file does not exist.\n",
    "\n",
    "2. Write Modes:\n",
    "\n",
    "    \"w\" : Opens a file for writing. If the file already exists, it truncates the file to zero length. If the file does not exist, it creates a new file.\n",
    "\n",
    "    \"wb\": Opens a file for writing in binary mode.\n",
    "\n",
    "    \"w+\": Opens a file for both writing and reading. It truncates the file to zero length if it exists; otherwise, it creates a new file.\n",
    "\n",
    "3. Append Modes:\n",
    "\n",
    "    \"a\" : Opens a file for appending. It creates a new file if the file does not exist.\n",
    "\n",
    "    \"ab\": Opens a file for appending in binary mode.\n",
    "    \n",
    "    \"a+\": Opens a file for both appending and reading. It creates a new file if the file does not exist.\n",
    "\n",
    "4. Exclusive Creation:\n",
    "\n",
    "    \"x\" : Opens a file for exclusive creation. It raises an error if the file already exists."
   ]
  },
  {
   "cell_type": "code",
   "execution_count": 10,
   "metadata": {},
   "outputs": [],
   "source": [
    "# Read mode examples\n",
    "file_r = open(\"example.txt\", \"r\")\n",
    "file_rb = open(\"example.bin\", \"rb\")\n",
    "file_rplus = open(\"example.txt\", \"r+\")\n",
    "\n",
    "# Write mode examples\n",
    "file_w = open(\"output.txt\", \"w\")\n",
    "file_wb = open(\"output.bin\", \"wb\")\n",
    "file_wplus = open(\"output.txt\", \"w+\")\n",
    "\n",
    "# Append mode examples\n",
    "file_a = open(\"log.txt\", \"a\")\n",
    "file_ab = open(\"data.bin\", \"ab\")\n",
    "file_aplus = open(\"log.txt\", \"a+\")\n",
    "\n",
    "# Exclusive creation mode example\n",
    "# This will raise an error if the file already exists\n",
    "# file_x = open(\"newfile.txt\", \"x\")\n"
   ]
  }
 ],
 "metadata": {
  "kernelspec": {
   "display_name": "venv",
   "language": "python",
   "name": "python3"
  },
  "language_info": {
   "codemirror_mode": {
    "name": "ipython",
    "version": 3
   },
   "file_extension": ".py",
   "mimetype": "text/x-python",
   "name": "python",
   "nbconvert_exporter": "python",
   "pygments_lexer": "ipython3",
   "version": "3.12.2"
  }
 },
 "nbformat": 4,
 "nbformat_minor": 2
}
