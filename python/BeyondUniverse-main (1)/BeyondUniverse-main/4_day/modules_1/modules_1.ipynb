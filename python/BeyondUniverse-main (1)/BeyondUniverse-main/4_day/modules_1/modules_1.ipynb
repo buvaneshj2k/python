{
 "cells": [
  {
   "cell_type": "code",
   "execution_count": 1,
   "metadata": {},
   "outputs": [
    {
     "name": "stdout",
     "output_type": "stream",
     "text": [
      "hello world\n"
     ]
    }
   ],
   "source": [
    "print(\"hello world\")"
   ]
  },
  {
   "cell_type": "markdown",
   "metadata": {},
   "source": [
    "Creating a module in Python involves organizing related functions, classes, and variables into a separate Python script file (with a .py extension) that can be imported and reused in other Python programs. Let's go through the steps to create a simple module:\n",
    "\n",
    "1. Create a Python Script File:\n",
    "\n",
    "Create a new Python script file using a text editor or an Integrated Development Environment (IDE). Save the file with a .py extension. For example, let's create a file named mymodule.py.\n",
    "\n",
    "2. Define Functions or Classes:\n",
    "\n",
    "Inside the mymodule.py file, define the functions, classes, or variables you want to include in your module."
   ]
  },
  {
   "cell_type": "code",
   "execution_count": null,
   "metadata": {},
   "outputs": [],
   "source": []
  }
 ],
 "metadata": {
  "kernelspec": {
   "display_name": "venv",
   "language": "python",
   "name": "python3"
  },
  "language_info": {
   "codemirror_mode": {
    "name": "ipython",
    "version": 3
   },
   "file_extension": ".py",
   "mimetype": "text/x-python",
   "name": "python",
   "nbconvert_exporter": "python",
   "pygments_lexer": "ipython3",
   "version": "3.12.2"
  }
 },
 "nbformat": 4,
 "nbformat_minor": 2
}
