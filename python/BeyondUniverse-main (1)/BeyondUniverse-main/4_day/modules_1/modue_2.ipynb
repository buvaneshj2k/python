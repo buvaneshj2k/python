{
 "cells": [
  {
   "cell_type": "code",
   "execution_count": 1,
   "metadata": {},
   "outputs": [
    {
     "name": "stdout",
     "output_type": "stream",
     "text": [
      "hello world\n"
     ]
    }
   ],
   "source": [
    "print(\"hello world\")"
   ]
  },
  {
   "cell_type": "markdown",
   "metadata": {},
   "source": [
    "2. Importing a Module:\n",
    "\n",
    "You can import a module in another Python script to use its functions, classes, and variables."
   ]
  },
  {
   "cell_type": "code",
   "execution_count": 1,
   "metadata": {},
   "outputs": [
    {
     "name": "stdout",
     "output_type": "stream",
     "text": [
      "Hello, Alice!\n",
      "None\n",
      "8\n",
      "3.14159\n"
     ]
    }
   ],
   "source": [
    "# main_program.py\n",
    "\n",
    "import mod\n",
    "\n",
    "print(mod.greet(\"Alice\"))  # Output: Hello, Alice!\n",
    "print(mod.add_numbers(5, 3))  # Output: 8\n",
    "print(mod.PI)  # Output: 3.14159\n",
    "\n",
    "\n"
   ]
  },
  {
   "cell_type": "code",
   "execution_count": 4,
   "metadata": {},
   "outputs": [
    {
     "name": "stdout",
     "output_type": "stream",
     "text": [
      "\n",
      "    this is a greet function inside a mod named module\n",
      "    \n"
     ]
    }
   ],
   "source": [
    "# help(mod.greet)\n",
    "print(mod.greet.__doc__)"
   ]
  },
  {
   "cell_type": "markdown",
   "metadata": {},
   "source": [
    "3. Module Search Path:\n",
    "\n",
    "Python searches for modules in specific directories defined by the sys.path list. The search order includes the current directory, directories in the PYTHONPATH environment variable, and standard library directories."
   ]
  },
  {
   "cell_type": "markdown",
   "metadata": {},
   "source": [
    "4. Using Module Aliases:\n",
    "\n",
    "You can use aliases while importing modules to shorten module names or avoid naming conflicts."
   ]
  },
  {
   "cell_type": "code",
   "execution_count": 4,
   "metadata": {},
   "outputs": [
    {
     "name": "stdout",
     "output_type": "stream",
     "text": [
      "Hello, Bob!\n",
      "None\n"
     ]
    }
   ],
   "source": [
    "# Using an alias for the module\n",
    "import mod as mm\n",
    "\n",
    "print(mm.greet(\"Bob\"))  # Output: Hello, Bob!\n"
   ]
  },
  {
   "cell_type": "markdown",
   "metadata": {},
   "source": [
    "5. Importing Specific Items:\n",
    "\n",
    "You can import specific functions, classes, or variables from a module instead of importing the entire module."
   ]
  },
  {
   "cell_type": "code",
   "execution_count": 5,
   "metadata": {},
   "outputs": [
    {
     "name": "stdout",
     "output_type": "stream",
     "text": [
      "Hello, Charlie!\n",
      "None\n",
      "3.14159\n"
     ]
    }
   ],
   "source": [
    "# Importing specific items from a module\n",
    "from mod import greet, PI\n",
    "\n",
    "print(greet(\"Charlie\"))  # Output: Hello, Charlie!\n",
    "print(PI)  # Output: 3.14159\n"
   ]
  },
  {
   "cell_type": "markdown",
   "metadata": {},
   "source": [
    "6. Using __name__ and Module Execution:\n",
    "\n",
    "The __name__ variable helps identify whether a module is being run as the main program or imported into another module."
   ]
  },
  {
   "cell_type": "code",
   "execution_count": 6,
   "metadata": {},
   "outputs": [
    {
     "name": "stdout",
     "output_type": "stream",
     "text": [
      "This is my function!\n"
     ]
    }
   ],
   "source": [
    "# mymodule.py\n",
    "def my_function():\n",
    "    print(\"This is my function!\")\n",
    "\n",
    "if __name__ == \"__main__\":\n",
    "    # This block executes only when the module is run directly\n",
    "    my_function()\n"
   ]
  },
  {
   "cell_type": "markdown",
   "metadata": {},
   "source": [
    "When mymodule.py is run directly (python mymodule.py), the code inside the if __name__ == \"__main__\": block executes. If it's imported into another module, that block is not executed.\n",
    "\n",
    "Understanding modules and how to use them effectively is fundamental to writing modular, maintainable, and scalable Python code. Modules facilitate code organization, reuse, and collaboration in larger Python projects."
   ]
  }
 ],
 "metadata": {
  "kernelspec": {
   "display_name": "venv",
   "language": "python",
   "name": "python3"
  },
  "language_info": {
   "codemirror_mode": {
    "name": "ipython",
    "version": 3
   },
   "file_extension": ".py",
   "mimetype": "text/x-python",
   "name": "python",
   "nbconvert_exporter": "python",
   "pygments_lexer": "ipython3",
   "version": "3.12.2"
  }
 },
 "nbformat": 4,
 "nbformat_minor": 2
}
