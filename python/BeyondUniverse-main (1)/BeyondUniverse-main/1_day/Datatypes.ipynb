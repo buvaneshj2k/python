{
 "cells": [
  {
   "cell_type": "code",
   "execution_count": 1,
   "metadata": {},
   "outputs": [
    {
     "name": "stdout",
     "output_type": "stream",
     "text": [
      "hello world\n"
     ]
    }
   ],
   "source": [
    "print(\"hello world\")"
   ]
  },
  {
   "cell_type": "markdown",
   "metadata": {},
   "source": [
    "Python supports several built-in data types that are fundamental to programming. Here are the main data types in Python:\n",
    "1. Numeric Types:\n",
    "\n",
    "    int: Integer values without decimal points (e.g., 5, -10, 1000)\n",
    "    float: Floating-point numbers with decimal points (e.g., 3.14, -0.5, 2.0)"
   ]
  },
  {
   "cell_type": "code",
   "execution_count": 2,
   "metadata": {},
   "outputs": [],
   "source": [
    "num_int = 10\n",
    "num_float = 3.14\n"
   ]
  },
  {
   "cell_type": "code",
   "execution_count": 3,
   "metadata": {},
   "outputs": [
    {
     "name": "stdout",
     "output_type": "stream",
     "text": [
      "10 <class 'int'> 140712045464280\n"
     ]
    }
   ],
   "source": [
    "print(num_int,type(num_int), id(num_int))"
   ]
  },
  {
   "cell_type": "code",
   "execution_count": 4,
   "metadata": {},
   "outputs": [
    {
     "name": "stdout",
     "output_type": "stream",
     "text": [
      "3.14 <class 'float'> 2960265248016\n"
     ]
    }
   ],
   "source": [
    "print(num_float,type(num_float), id(num_float))"
   ]
  },
  {
   "cell_type": "markdown",
   "metadata": {},
   "source": [
    "2. String Type:\n",
    "\n",
    "    str: Sequence of characters enclosed in single quotes, double quotes, or triple quotes (e.g., 'hello', \"world\", '''Python''')"
   ]
  },
  {
   "cell_type": "code",
   "execution_count": 5,
   "metadata": {},
   "outputs": [],
   "source": [
    "my_string = \"Hello, World!\"\n"
   ]
  },
  {
   "cell_type": "code",
   "execution_count": 6,
   "metadata": {},
   "outputs": [
    {
     "name": "stdout",
     "output_type": "stream",
     "text": [
      "Hello, World! <class 'str'> 2960283926256\n"
     ]
    }
   ],
   "source": [
    "print(my_string, type(my_string), id(my_string))"
   ]
  },
  {
   "cell_type": "markdown",
   "metadata": {},
   "source": [
    "Boolean Type:\n",
    "\n",
    "    bool: Represents truth values - True or False."
   ]
  },
  {
   "cell_type": "code",
   "execution_count": 7,
   "metadata": {},
   "outputs": [],
   "source": [
    "is_valid = True\n",
    "is_empty = False\n"
   ]
  },
  {
   "cell_type": "code",
   "execution_count": 8,
   "metadata": {},
   "outputs": [
    {
     "name": "stdout",
     "output_type": "stream",
     "text": [
      "True <class 'bool'> 140712044670032\n"
     ]
    }
   ],
   "source": [
    "print(is_valid, type(is_valid), id(is_valid))"
   ]
  },
  {
   "cell_type": "code",
   "execution_count": 9,
   "metadata": {},
   "outputs": [
    {
     "name": "stdout",
     "output_type": "stream",
     "text": [
      "False <class 'bool'> 140712044670064\n"
     ]
    }
   ],
   "source": [
    "print(is_empty, type(is_empty), id(is_empty))"
   ]
  },
  {
   "cell_type": "markdown",
   "metadata": {},
   "source": [
    "4. Sequence Types:\n",
    "\n",
    "    list: Ordered collection of items of different data types, mutable (changeable).\n",
    "\n",
    "    tuple: Ordered collection of items, immutable (cannot be changed after creation).\n",
    "    \n",
    "    range: Represents a sequence of numbers, used for iterating."
   ]
  },
  {
   "cell_type": "code",
   "execution_count": 10,
   "metadata": {},
   "outputs": [],
   "source": [
    "my_list = [1, 2, 3, 'apple']\n",
    "my_tuple = (10, 20, 30)\n",
    "my_range = range(1, 5)  # Generates numbers from 1 to 4\n"
   ]
  },
  {
   "cell_type": "code",
   "execution_count": 11,
   "metadata": {},
   "outputs": [
    {
     "name": "stdout",
     "output_type": "stream",
     "text": [
      "[1, 2, 3, 'apple'] <class 'list'> 2960283630976\n"
     ]
    }
   ],
   "source": [
    "print(my_list, type(my_list), id(my_list))"
   ]
  },
  {
   "cell_type": "code",
   "execution_count": 12,
   "metadata": {},
   "outputs": [
    {
     "name": "stdout",
     "output_type": "stream",
     "text": [
      "(10, 20, 30) <class 'tuple'> 2960266500800\n"
     ]
    }
   ],
   "source": [
    "print(my_tuple, type(my_tuple), id(my_tuple))"
   ]
  },
  {
   "cell_type": "code",
   "execution_count": 13,
   "metadata": {},
   "outputs": [
    {
     "name": "stdout",
     "output_type": "stream",
     "text": [
      "range(1, 5) <class 'range'> 2960283190448\n"
     ]
    }
   ],
   "source": [
    "print(my_range, type(my_range), id(my_range))"
   ]
  },
  {
   "cell_type": "markdown",
   "metadata": {},
   "source": [
    "5. Mapping Type:\n",
    "\n",
    "    dict: Collection of key-value pairs, unordered and mutable."
   ]
  },
  {
   "cell_type": "code",
   "execution_count": 14,
   "metadata": {},
   "outputs": [],
   "source": [
    "my_dict = {'name': 'Alice', 'age': 30}\n"
   ]
  },
  {
   "cell_type": "code",
   "execution_count": 15,
   "metadata": {},
   "outputs": [
    {
     "name": "stdout",
     "output_type": "stream",
     "text": [
      "{'name': 'Alice', 'age': 30} <class 'dict'> 2960283923264\n"
     ]
    }
   ],
   "source": [
    "print(my_dict, type(my_dict), id(my_dict))"
   ]
  },
  {
   "cell_type": "markdown",
   "metadata": {},
   "source": [
    "6. Set Types:\n",
    "\n",
    "    set: Unordered collection of unique items, mutable (can be changed).\n",
    "    frozenset: Similar to set, but immutable (cannot be changed after creation)."
   ]
  },
  {
   "cell_type": "code",
   "execution_count": 16,
   "metadata": {},
   "outputs": [],
   "source": [
    "my_set = {1, 2, 3, 4}\n",
    "my_frozenset = frozenset({1, 2, 3})\n"
   ]
  },
  {
   "cell_type": "code",
   "execution_count": 17,
   "metadata": {},
   "outputs": [
    {
     "name": "stdout",
     "output_type": "stream",
     "text": [
      "{1, 2, 3, 4} <class 'set'> 2960266305696\n"
     ]
    }
   ],
   "source": [
    "print(my_set, type(my_set), id(my_set))"
   ]
  },
  {
   "cell_type": "code",
   "execution_count": 18,
   "metadata": {},
   "outputs": [
    {
     "name": "stdout",
     "output_type": "stream",
     "text": [
      "frozenset({1, 2, 3}) <class 'frozenset'> 2960283414176\n"
     ]
    }
   ],
   "source": [
    "print(my_frozenset, type(my_frozenset), id(my_frozenset))"
   ]
  },
  {
   "cell_type": "markdown",
   "metadata": {},
   "source": [
    "7. None Type:\n",
    "\n",
    "    NoneType: Represents the absence of a value, often used as a default return value or to initialize variables."
   ]
  },
  {
   "cell_type": "code",
   "execution_count": 19,
   "metadata": {},
   "outputs": [],
   "source": [
    "my_var = None\n"
   ]
  },
  {
   "cell_type": "code",
   "execution_count": 20,
   "metadata": {},
   "outputs": [
    {
     "name": "stdout",
     "output_type": "stream",
     "text": [
      "None <class 'NoneType'> 140712044670096\n"
     ]
    }
   ],
   "source": [
    "print(my_var, type(my_var), id(my_var))"
   ]
  },
  {
   "cell_type": "markdown",
   "metadata": {},
   "source": [
    "These data types cover a wide range of programming needs in Python, from storing simple values to more complex data structures and collections. Understanding how to work with these data types and their respective methods is essential for effective Python programming. Additionally, Python also supports advanced data types and structures through built-in modules and libraries, such as datetime for handling dates and times, collections for specialized data structures, and more."
   ]
  },
  {
   "cell_type": "code",
   "execution_count": null,
   "metadata": {},
   "outputs": [],
   "source": []
  }
 ],
 "metadata": {
  "kernelspec": {
   "display_name": "venv",
   "language": "python",
   "name": "python3"
  },
  "language_info": {
   "codemirror_mode": {
    "name": "ipython",
    "version": 3
   },
   "file_extension": ".py",
   "mimetype": "text/x-python",
   "name": "python",
   "nbconvert_exporter": "python",
   "pygments_lexer": "ipython3",
   "version": "3.12.2"
  }
 },
 "nbformat": 4,
 "nbformat_minor": 2
}
