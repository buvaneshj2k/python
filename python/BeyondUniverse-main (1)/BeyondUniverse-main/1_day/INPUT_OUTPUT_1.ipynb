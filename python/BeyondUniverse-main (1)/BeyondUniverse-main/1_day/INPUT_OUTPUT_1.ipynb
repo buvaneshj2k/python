{
 "cells": [
  {
   "cell_type": "markdown",
   "metadata": {},
   "source": [
    "### Basic input/output operations"
   ]
  },
  {
   "cell_type": "markdown",
   "metadata": {},
   "source": [
    "basic input/output (I/O) operations are fundamental for interacting with users, reading external data, and displaying output. Here are examples of basic input and output operations in Python:\n",
    "Input Operations:\n",
    "\n",
    "    Using input() Function:\n",
    "        The input() function reads input from the user as a string.\n",
    "        You can optionally provide a prompt to the user within the input() function."
   ]
  },
  {
   "cell_type": "code",
   "execution_count": 1,
   "metadata": {},
   "outputs": [
    {
     "name": "stdout",
     "output_type": "stream",
     "text": [
      "Hello, sameera\n"
     ]
    }
   ],
   "source": [
    "name = input(\"Enter your name: \")\n",
    "print(\"Hello,\", name)\n"
   ]
  },
  {
   "cell_type": "markdown",
   "metadata": {},
   "source": [
    "Converting Input to Other Data Types:\n",
    "\n",
    "    Use type conversion functions like int(), float(), etc., to convert input to specific data types."
   ]
  },
  {
   "cell_type": "code",
   "execution_count": 4,
   "metadata": {},
   "outputs": [
    {
     "name": "stdout",
     "output_type": "stream",
     "text": [
      "You are 12 years old. <class 'int'>\n"
     ]
    }
   ],
   "source": [
    "age = int(input(\"Enter your age: \"))\n",
    "print(\"You are\", age, \"years old.\", type(age))\n"
   ]
  },
  {
   "cell_type": "markdown",
   "metadata": {},
   "source": [
    "Output Operations:\n",
    "\n",
    "    Using print() Function:\n",
    "        The print() function is used to display output to the console.\n",
    "        You can print strings, variables, expressions, and formatted output."
   ]
  },
  {
   "cell_type": "code",
   "execution_count": 5,
   "metadata": {},
   "outputs": [
    {
     "name": "stdout",
     "output_type": "stream",
     "text": [
      "Hello, World!\n"
     ]
    }
   ],
   "source": [
    "print(\"Hello, World!\")\n"
   ]
  },
  {
   "cell_type": "markdown",
   "metadata": {},
   "source": [
    "Formatted Output:\n",
    "\n",
    "    Use formatted strings (f-strings) or the format() method for more controlled output formatting."
   ]
  },
  {
   "cell_type": "code",
   "execution_count": 6,
   "metadata": {},
   "outputs": [
    {
     "name": "stdout",
     "output_type": "stream",
     "text": [
      "Alice is 30 years old.\n",
      "Alice is 30 years old.\n"
     ]
    }
   ],
   "source": [
    "name = \"Alice\"\n",
    "age = 30\n",
    "print(f\"{name} is {age} years old.\")  # Using f-string\n",
    "print(\"{} is {} years old.\".format(name, age))  # Using format()\n"
   ]
  },
  {
   "cell_type": "markdown",
   "metadata": {},
   "source": [
    "Multiple Arguments in print():\n",
    "\n",
    "    print() can take multiple arguments separated by commas. By default, it separates them with a space."
   ]
  },
  {
   "cell_type": "code",
   "execution_count": 9,
   "metadata": {},
   "outputs": [
    {
     "name": "stdout",
     "output_type": "stream",
     "text": [
      "The population of Chennai is 12600000\n"
     ]
    }
   ],
   "source": [
    "city = \"Chennai\"\n",
    "population = 12_600_000  # Using underscores for readability (valid in Python 3.6+)\n",
    "print(\"The population of\", city, \"is\", population)\n"
   ]
  },
  {
   "cell_type": "markdown",
   "metadata": {},
   "source": [
    "Output Formatting:\n",
    "\n",
    "    Control formatting using special characters and escape sequences (\\n for newline, \\t for tab, etc.)."
   ]
  },
  {
   "cell_type": "code",
   "execution_count": 10,
   "metadata": {},
   "outputs": [
    {
     "name": "stdout",
     "output_type": "stream",
     "text": [
      "Line 1\n",
      "Line 2\n",
      "Column 1\tColumn 2\n"
     ]
    }
   ],
   "source": [
    "print(\"Line 1\\nLine 2\")  # Newline\n",
    "print(\"Column 1\\tColumn 2\")  # Tab separation\n"
   ]
  },
  {
   "cell_type": "code",
   "execution_count": null,
   "metadata": {},
   "outputs": [],
   "source": []
  }
 ],
 "metadata": {
  "kernelspec": {
   "display_name": "venv",
   "language": "python",
   "name": "python3"
  },
  "language_info": {
   "codemirror_mode": {
    "name": "ipython",
    "version": 3
   },
   "file_extension": ".py",
   "mimetype": "text/x-python",
   "name": "python",
   "nbconvert_exporter": "python",
   "pygments_lexer": "ipython3",
   "version": "3.12.2"
  }
 },
 "nbformat": 4,
 "nbformat_minor": 2
}
