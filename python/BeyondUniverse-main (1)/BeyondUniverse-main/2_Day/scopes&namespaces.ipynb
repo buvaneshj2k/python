{
 "cells": [
  {
   "cell_type": "code",
   "execution_count": 2,
   "metadata": {},
   "outputs": [
    {
     "name": "stdout",
     "output_type": "stream",
     "text": [
      "hello world\n"
     ]
    }
   ],
   "source": [
    "print(\"hello world\")"
   ]
  },
  {
   "cell_type": "markdown",
   "metadata": {},
   "source": [
    "# Scopes and Namespaces."
   ]
  },
  {
   "cell_type": "markdown",
   "metadata": {},
   "source": [
    "Understanding scope and namespaces is crucial for writing Python code efficiently and avoiding conflicts between variables. Let's discuss what scope and namespaces are in Python and how they work:\n",
    "1. Namespace:\n",
    "\n",
    "A namespace in Python is a mapping from names (identifiers) to objects. It's like a dictionary that contains the names of variables and their corresponding objects (values).\n",
    "\n",
    "    Built-in Namespace: Contains built-in functions, exceptions, and constants. It's automatically loaded when Python starts.\n",
    "    Global Namespace: Contains names defined at the top level of a module or script. Variables declared outside of functions are in the global namespace.\n",
    "    Local Namespace: Created when a function is called. It contains names defined within the function.\n",
    "\n",
    "2. Scope:\n",
    "\n",
    "Scope refers to the visibility of names (variables) in a program. It determines where you can access a variable and whether modifications made to it are visible in other parts of the code.\n",
    "\n",
    "    Global Scope: Variables defined at the top level of a module are in the global scope and can be accessed throughout the module.\n",
    "    Local Scope: Variables defined inside a function are in the local scope and can only be accessed within that function."
   ]
  },
  {
   "cell_type": "code",
   "execution_count": 4,
   "metadata": {},
   "outputs": [],
   "source": [
    "# Global variable\n",
    "global_var = \"I am global\"\n",
    "\n",
    "def my_function():\n",
    "    # Local variable\n",
    "    local_var = \"I am local\"\n",
    "    print(local_var)  # Accessible inside the function\n",
    "    print(global_var)  # Accessible inside the function\n",
    "\n"
   ]
  },
  {
   "cell_type": "code",
   "execution_count": 5,
   "metadata": {},
   "outputs": [
    {
     "name": "stdout",
     "output_type": "stream",
     "text": [
      "I am local\n",
      "I am global\n"
     ]
    }
   ],
   "source": [
    "# Call the function\n",
    "my_function()\n",
    "\n",
    "# Try to access local_var outside the function (will result in NameError)\n",
    "# print(local_var)\n",
    "\n"
   ]
  },
  {
   "cell_type": "code",
   "execution_count": 6,
   "metadata": {},
   "outputs": [
    {
     "name": "stdout",
     "output_type": "stream",
     "text": [
      "I am global\n"
     ]
    }
   ],
   "source": [
    "# Access global_var outside the function\n",
    "print(global_var)\n"
   ]
  },
  {
   "cell_type": "code",
   "execution_count": 7,
   "metadata": {},
   "outputs": [
    {
     "ename": "NameError",
     "evalue": "name 'local_var' is not defined",
     "output_type": "error",
     "traceback": [
      "\u001b[1;31m---------------------------------------------------------------------------\u001b[0m",
      "\u001b[1;31mNameError\u001b[0m                                 Traceback (most recent call last)",
      "Cell \u001b[1;32mIn[7], line 1\u001b[0m\n\u001b[1;32m----> 1\u001b[0m \u001b[38;5;28mprint\u001b[39m(\u001b[43mlocal_var\u001b[49m)\n",
      "\u001b[1;31mNameError\u001b[0m: name 'local_var' is not defined"
     ]
    }
   ],
   "source": [
    "print(local_var)"
   ]
  },
  {
   "cell_type": "markdown",
   "metadata": {},
   "source": [
    "In this example:\n",
    "\n",
    "    global_var is in the global namespace and can be accessed inside the function my_function() because it's in the global scope.\n",
    "    local_var is in the local namespace of my_function() and is only accessible inside the function."
   ]
  },
  {
   "cell_type": "markdown",
   "metadata": {},
   "source": [
    "### Modifying Global Variables Inside Functions:\n",
    "\n",
    "To modify a global variable inside a function, you can use the global keyword to declare that you want to use the global variable instead of creating a new local variable with the same name."
   ]
  },
  {
   "cell_type": "code",
   "execution_count": 9,
   "metadata": {},
   "outputs": [],
   "source": [
    "counter = 0\n",
    "\n",
    "def increment_counter():\n",
    "    global counter\n",
    "    counter += 1\n",
    "\n"
   ]
  },
  {
   "cell_type": "code",
   "execution_count": 10,
   "metadata": {},
   "outputs": [
    {
     "name": "stdout",
     "output_type": "stream",
     "text": [
      "1\n"
     ]
    }
   ],
   "source": [
    "increment_counter()\n",
    "print(counter)  # Outputs: 1\n"
   ]
  },
  {
   "cell_type": "code",
   "execution_count": null,
   "metadata": {},
   "outputs": [],
   "source": []
  }
 ],
 "metadata": {
  "kernelspec": {
   "display_name": "venv",
   "language": "python",
   "name": "python3"
  },
  "language_info": {
   "codemirror_mode": {
    "name": "ipython",
    "version": 3
   },
   "file_extension": ".py",
   "mimetype": "text/x-python",
   "name": "python",
   "nbconvert_exporter": "python",
   "pygments_lexer": "ipython3",
   "version": "3.12.2"
  }
 },
 "nbformat": 4,
 "nbformat_minor": 2
}
