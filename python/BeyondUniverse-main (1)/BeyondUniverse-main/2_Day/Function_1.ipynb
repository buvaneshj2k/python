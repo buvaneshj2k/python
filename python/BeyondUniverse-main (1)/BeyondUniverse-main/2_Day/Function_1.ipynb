{
 "cells": [
  {
   "cell_type": "code",
   "execution_count": 2,
   "metadata": {},
   "outputs": [
    {
     "name": "stdout",
     "output_type": "stream",
     "text": [
      "hello world\n"
     ]
    }
   ],
   "source": [
    "print(\"hello world\")"
   ]
  },
  {
   "cell_type": "markdown",
   "metadata": {},
   "source": [
    "In Python, functions can accept arguments (also called parameters) to receive input values. There are different types of arguments you can use when defining functions, including positional arguments, keyword arguments, default arguments, variable-length arguments (*args), and keyword variable-length arguments (**kwargs). Let's explore each type with examples:"
   ]
  },
  {
   "cell_type": "markdown",
   "metadata": {},
   "source": [
    "1. Positional Arguments:\n",
    "\n",
    "Positional arguments are passed to a function in the order they are defined. The number of arguments passed must match the function's parameter list."
   ]
  },
  {
   "cell_type": "code",
   "execution_count": 3,
   "metadata": {},
   "outputs": [],
   "source": [
    "def greet(name, message):\n",
    "    print(f\"Hello, {name}! {message}\")\n"
   ]
  },
  {
   "cell_type": "code",
   "execution_count": 4,
   "metadata": {},
   "outputs": [
    {
     "name": "stdout",
     "output_type": "stream",
     "text": [
      "Hello, Alice! Good morning!\n"
     ]
    }
   ],
   "source": [
    "\n",
    "# Calling the function with positional arguments\n",
    "greet(\"Alice\", \"Good morning!\")  # Outputs: Hello, Alice! Good morning!\n"
   ]
  },
  {
   "cell_type": "markdown",
   "metadata": {},
   "source": [
    "2. Keyword Arguments:\n",
    "\n",
    "Keyword arguments are passed with a key-value pair, where the key is the parameter name. This allows you to pass arguments out of order."
   ]
  },
  {
   "cell_type": "code",
   "execution_count": 5,
   "metadata": {},
   "outputs": [
    {
     "name": "stdout",
     "output_type": "stream",
     "text": [
      "Hello, Bob! Good evening!\n"
     ]
    }
   ],
   "source": [
    "# Calling the function with keyword arguments\n",
    "greet(message=\"Good evening!\", name=\"Bob\")  # Outputs: Hello, Bob! Good evening!\n"
   ]
  },
  {
   "cell_type": "markdown",
   "metadata": {},
   "source": [
    "3. Default Arguments:\n",
    "\n",
    "You can set default values for parameters in case the caller doesn't provide them."
   ]
  },
  {
   "cell_type": "code",
   "execution_count": 10,
   "metadata": {},
   "outputs": [],
   "source": [
    "def greet(name = 'Ravi', message=\"Welcome!\"):\n",
    "    print(f\"Hello, {name}! {message}\")\n",
    "\n"
   ]
  },
  {
   "cell_type": "code",
   "execution_count": 11,
   "metadata": {},
   "outputs": [
    {
     "name": "stdout",
     "output_type": "stream",
     "text": [
      "Hello, Alice! Welcome!\n"
     ]
    }
   ],
   "source": [
    "# Calling the function without providing the 'message' argument\n",
    "greet(\"Alice\")  # Outputs: Hello, Alice! Welcome!\n"
   ]
  },
  {
   "cell_type": "code",
   "execution_count": 12,
   "metadata": {},
   "outputs": [
    {
     "name": "stdout",
     "output_type": "stream",
     "text": [
      "Hello, Ravi! Welcome!\n"
     ]
    }
   ],
   "source": [
    "greet()"
   ]
  },
  {
   "cell_type": "markdown",
   "metadata": {},
   "source": [
    "4. Variable-Length Arguments (*args):\n",
    "\n",
    "The *args parameter allows a function to accept a variable number of positional arguments. The arguments passed are treated as a tuple inside the function."
   ]
  },
  {
   "cell_type": "code",
   "execution_count": 13,
   "metadata": {},
   "outputs": [],
   "source": [
    "def add_numbers(*args):\n",
    "    total = 0\n",
    "    for num in args:\n",
    "        total += num\n",
    "    return total\n",
    "\n"
   ]
  },
  {
   "cell_type": "code",
   "execution_count": 14,
   "metadata": {},
   "outputs": [
    {
     "name": "stdout",
     "output_type": "stream",
     "text": [
      "15\n"
     ]
    }
   ],
   "source": [
    "result = add_numbers(1, 2, 3, 4, 5)\n",
    "print(result)  # Outputs: 15\n"
   ]
  },
  {
   "cell_type": "markdown",
   "metadata": {},
   "source": [
    "5. Keyword Variable-Length Arguments (**kwargs):\n",
    "\n",
    "The **kwargs parameter allows a function to accept a variable number of keyword arguments as a dictionary."
   ]
  },
  {
   "cell_type": "code",
   "execution_count": 17,
   "metadata": {},
   "outputs": [],
   "source": [
    "def print_info(**kwargs):\n",
    "    for key, value in kwargs.items():\n",
    "        print(f\"{key}: {value}\")\n",
    "\n"
   ]
  },
  {
   "cell_type": "code",
   "execution_count": 18,
   "metadata": {},
   "outputs": [
    {
     "name": "stdout",
     "output_type": "stream",
     "text": [
      "name: Alice\n",
      "age: 30\n",
      "city: New York\n"
     ]
    }
   ],
   "source": [
    "# Calling the function with keyword arguments\n",
    "print_info(name=\"Alice\", age=30, city=\"New York\")\n"
   ]
  },
  {
   "cell_type": "code",
   "execution_count": null,
   "metadata": {},
   "outputs": [],
   "source": []
  }
 ],
 "metadata": {
  "kernelspec": {
   "display_name": "venv",
   "language": "python",
   "name": "python3"
  },
  "language_info": {
   "codemirror_mode": {
    "name": "ipython",
    "version": 3
   },
   "file_extension": ".py",
   "mimetype": "text/x-python",
   "name": "python",
   "nbconvert_exporter": "python",
   "pygments_lexer": "ipython3",
   "version": "3.12.2"
  }
 },
 "nbformat": 4,
 "nbformat_minor": 2
}
