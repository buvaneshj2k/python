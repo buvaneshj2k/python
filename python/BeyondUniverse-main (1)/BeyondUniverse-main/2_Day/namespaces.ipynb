{
 "cells": [
  {
   "cell_type": "code",
   "execution_count": 1,
   "metadata": {},
   "outputs": [
    {
     "name": "stdout",
     "output_type": "stream",
     "text": [
      "hello world\n"
     ]
    }
   ],
   "source": [
    "print(\"hello world\")"
   ]
  },
  {
   "cell_type": "markdown",
   "metadata": {},
   "source": [
    "### namespaces\n"
   ]
  },
  {
   "cell_type": "markdown",
   "metadata": {},
   "source": [
    "Namespaces play a crucial role in organizing and managing identifiers (such as variables, functions, classes, etc.) in Python. They help avoid naming conflicts and provide a hierarchical structure for accessing names within a program. Let's delve deeper into namespaces in Python:\n",
    "1. What is a Namespace?\n",
    "\n",
    "A namespace is a mapping from names (identifiers) to objects. It serves as a context in which names are unique and can be mapped to specific objects. Namespaces help Python determine the scope of a name (where it can be accessed) and avoid name collisions between different parts of a program.\n",
    "2. Types of Namespaces:\n",
    "a. Built-in Namespace:\n",
    "\n",
    "    Contains built-in functions (like print(), len()), exceptions, and constants (like True, False, None).\n",
    "    Automatically loaded when Python starts.\n",
    "    Accessible throughout the program without any special imports.\n",
    "\n",
    "b. Global Namespace:\n",
    "\n",
    "    Contains names defined at the top level of a module or script.\n",
    "    Includes global variables, functions, and classes defined in the module.\n",
    "    Accessible throughout the module where it's defined.\n",
    "\n",
    "c. Local Namespace:\n",
    "\n",
    "    Created dynamically when a function is called.\n",
    "    Contains names defined within the function, including parameters and local variables.\n",
    "    Each function call creates a new local namespace, and it's destroyed when the function returns.\n",
    "\n",
    "3. Accessing Namespaces:\n",
    "\n",
    "You can access names within namespaces using the dot (.) notation. For example:"
   ]
  },
  {
   "cell_type": "code",
   "execution_count": 3,
   "metadata": {},
   "outputs": [
    {
     "name": "stdout",
     "output_type": "stream",
     "text": [
      "3.141592653589793\n"
     ]
    }
   ],
   "source": [
    "# Accessing names in namespaces\n",
    "import math\n",
    "print(math.pi)  # Accesses 'pi' in the 'math' namespace\n"
   ]
  },
  {
   "cell_type": "markdown",
   "metadata": {},
   "source": [
    "4. Namespace Lookup:\n",
    "\n",
    "When a name is referenced in Python, the interpreter follows a specific order (known as the LEGB rule) to search for the name in different namespaces:\n",
    "\n",
    "    Local (L): Searches in the local namespace of the current function or code block.\n",
    "    Enclosing (E): Searches in enclosing functions' local namespaces (for nested functions).\n",
    "    Global (G): Searches in the global namespace of the module.\n",
    "    Built-in (B): Searches in the built-in namespace containing Python's built-in functions and objects.\n",
    "\n",
    "5. Example of Namespace Usage:"
   ]
  },
  {
   "cell_type": "code",
   "execution_count": 4,
   "metadata": {},
   "outputs": [
    {
     "name": "stdout",
     "output_type": "stream",
     "text": [
      "I am local\n",
      "I am global\n",
      "I am global\n"
     ]
    }
   ],
   "source": [
    "# Global namespace\n",
    "global_var = \"I am global\"\n",
    "\n",
    "def my_function():\n",
    "    # Local namespace\n",
    "    local_var = \"I am local\"\n",
    "    print(local_var)  # Accessible inside the function\n",
    "    print(global_var)  # Accessible inside the function\n",
    "\n",
    "# Call the function\n",
    "my_function()\n",
    "\n",
    "# Access global_var outside the function\n",
    "print(global_var)  # Accessible outside the function\n"
   ]
  },
  {
   "cell_type": "markdown",
   "metadata": {},
   "source": [
    "6. Modifying Namespaces:\n",
    "\n",
    "    Adding Names: Namespaces can have new names added dynamically during runtime, such as defining new variables within a function or module.\n",
    "    Removing Names: Namespaces automatically clean up when they go out of scope (e.g., when a function returns or a module is no longer needed).\n",
    "    Namespace Clashes: If a name is defined in multiple namespaces (e.g., same name in global and local), the interpreter follows the LEGB rule to resolve the name.\n",
    "\n",
    "Understanding namespaces is fundamental to writing maintainable and readable Python code. It helps you organize your code, avoid naming conflicts, and understand how Python resolves names when executing your programs."
   ]
  }
 ],
 "metadata": {
  "kernelspec": {
   "display_name": "venv",
   "language": "python",
   "name": "python3"
  },
  "language_info": {
   "codemirror_mode": {
    "name": "ipython",
    "version": 3
   },
   "file_extension": ".py",
   "mimetype": "text/x-python",
   "name": "python",
   "nbconvert_exporter": "python",
   "pygments_lexer": "ipython3",
   "version": "3.12.2"
  }
 },
 "nbformat": 4,
 "nbformat_minor": 2
}
