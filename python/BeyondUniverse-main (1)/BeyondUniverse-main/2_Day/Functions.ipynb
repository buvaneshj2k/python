{
 "cells": [
  {
   "cell_type": "code",
   "execution_count": 1,
   "metadata": {},
   "outputs": [
    {
     "name": "stdout",
     "output_type": "stream",
     "text": [
      "hello world\n"
     ]
    }
   ],
   "source": [
    "print(\"hello world\")"
   ]
  },
  {
   "cell_type": "markdown",
   "metadata": {},
   "source": [
    "Functions are a crucial concept in Python (and in programming in general) that allow you to encapsulate reusable pieces of code. They can accept input parameters, perform tasks, and optionally return results. Let's dive into defining functions, calling them, using parameters, and handling return values in Python.\n",
    "Defining a Function:\n",
    "\n",
    "In Python, you define a function using the def keyword, followed by the function name and parameters (if any) in parentheses. The function body is indented and contains the code to be executed when the function is called."
   ]
  },
  {
   "cell_type": "code",
   "execution_count": 2,
   "metadata": {},
   "outputs": [],
   "source": [
    "def greet():\n",
    "    print(\"Hello, welcome to Python!\")\n",
    "\n"
   ]
  },
  {
   "cell_type": "code",
   "execution_count": 3,
   "metadata": {},
   "outputs": [
    {
     "name": "stdout",
     "output_type": "stream",
     "text": [
      "Hello, welcome to Python!\n"
     ]
    }
   ],
   "source": [
    "# Calling the function\n",
    "greet()\n"
   ]
  },
  {
   "cell_type": "markdown",
   "metadata": {},
   "source": [
    "Function Parameters:\n",
    "\n",
    "You can define functions that accept parameters to receive input values. Parameters are specified within the parentheses after the function name."
   ]
  },
  {
   "cell_type": "code",
   "execution_count": 4,
   "metadata": {},
   "outputs": [],
   "source": [
    "def greet_user(name):\n",
    "    print(f\"Hello, {name}!\")\n",
    "\n"
   ]
  },
  {
   "cell_type": "code",
   "execution_count": 5,
   "metadata": {},
   "outputs": [
    {
     "name": "stdout",
     "output_type": "stream",
     "text": [
      "Hello, Alice!\n"
     ]
    }
   ],
   "source": [
    "# Calling the function with a parameter\n",
    "greet_user(\"Alice\")\n"
   ]
  },
  {
   "cell_type": "markdown",
   "metadata": {},
   "source": [
    "Default Parameters:\n",
    "\n",
    "You can also provide default values for parameters in case the caller doesn't specify them."
   ]
  },
  {
   "cell_type": "code",
   "execution_count": 6,
   "metadata": {},
   "outputs": [],
   "source": [
    "def greet_user(name=\"Guest\"):\n",
    "    print(f\"Hello, {name}!\")\n"
   ]
  },
  {
   "cell_type": "code",
   "execution_count": 7,
   "metadata": {},
   "outputs": [
    {
     "name": "stdout",
     "output_type": "stream",
     "text": [
      "Hello, Guest!\n"
     ]
    }
   ],
   "source": [
    "\n",
    "# Calling the function without providing a parameter\n",
    "greet_user()  # Outputs: Hello, Guest!\n"
   ]
  },
  {
   "cell_type": "markdown",
   "metadata": {},
   "source": [
    "Return Values:\n",
    "\n",
    "Functions can return values using the return statement. You can return one or more values from a function."
   ]
  },
  {
   "cell_type": "code",
   "execution_count": 8,
   "metadata": {},
   "outputs": [],
   "source": [
    "def add_numbers(a, b):\n",
    "    return a + b\n",
    "\n"
   ]
  },
  {
   "cell_type": "code",
   "execution_count": 9,
   "metadata": {},
   "outputs": [
    {
     "name": "stdout",
     "output_type": "stream",
     "text": [
      "8\n"
     ]
    }
   ],
   "source": [
    "result = add_numbers(3, 5)\n",
    "print(result)  # Outputs: 8\n"
   ]
  },
  {
   "cell_type": "markdown",
   "metadata": {},
   "source": [
    "Multiple Return Values:\n",
    "\n",
    "Python functions can return multiple values using tuples, lists, or dictionaries."
   ]
  },
  {
   "cell_type": "code",
   "execution_count": 10,
   "metadata": {},
   "outputs": [],
   "source": [
    "def get_user_info():\n",
    "    name = \"Alice\"\n",
    "    age = 30\n",
    "    email = \"alice@example.com\"\n",
    "    return name, age, email\n",
    "\n"
   ]
  },
  {
   "cell_type": "code",
   "execution_count": 11,
   "metadata": {},
   "outputs": [
    {
     "name": "stdout",
     "output_type": "stream",
     "text": [
      "Name: Alice, Age: 30, Email: alice@example.com\n"
     ]
    }
   ],
   "source": [
    "# Unpacking the returned tuple\n",
    "user_name, user_age, user_email = get_user_info()\n",
    "print(f\"Name: {user_name}, Age: {user_age}, Email: {user_email}\")\n"
   ]
  },
  {
   "cell_type": "markdown",
   "metadata": {},
   "source": [
    "Docstrings:\n",
    "\n",
    "It's good practice to include documentation strings (docstrings) in your functions to describe what the function does."
   ]
  },
  {
   "cell_type": "code",
   "execution_count": 12,
   "metadata": {},
   "outputs": [],
   "source": [
    "def greet_user(name):\n",
    "    \"\"\"\n",
    "    Greets the user with the provided name.\n",
    "\n",
    "    Args:\n",
    "    name (str): The name of the user.\n",
    "    \"\"\"\n",
    "    print(f\"Hello, {name}!\")\n",
    "\n"
   ]
  },
  {
   "cell_type": "code",
   "execution_count": 13,
   "metadata": {},
   "outputs": [
    {
     "name": "stdout",
     "output_type": "stream",
     "text": [
      "\n",
      "    Greets the user with the provided name.\n",
      "\n",
      "    Args:\n",
      "    name (str): The name of the user.\n",
      "    \n"
     ]
    }
   ],
   "source": [
    "# Accessing the docstring\n",
    "print(greet_user.__doc__)\n"
   ]
  },
  {
   "cell_type": "markdown",
   "metadata": {},
   "source": [
    "Calling Functions:\n",
    "\n",
    "Once a function is defined, you can call it from anywhere in your code."
   ]
  },
  {
   "cell_type": "code",
   "execution_count": 14,
   "metadata": {},
   "outputs": [
    {
     "name": "stdout",
     "output_type": "stream",
     "text": [
      "Hello, welcome to Python!\n"
     ]
    }
   ],
   "source": [
    "# Calling the previously defined greet function\n",
    "greet()  # Outputs: Hello, welcome to Python!\n"
   ]
  },
  {
   "cell_type": "code",
   "execution_count": null,
   "metadata": {},
   "outputs": [],
   "source": []
  }
 ],
 "metadata": {
  "kernelspec": {
   "display_name": "venv",
   "language": "python",
   "name": "python3"
  },
  "language_info": {
   "codemirror_mode": {
    "name": "ipython",
    "version": 3
   },
   "file_extension": ".py",
   "mimetype": "text/x-python",
   "name": "python",
   "nbconvert_exporter": "python",
   "pygments_lexer": "ipython3",
   "version": "3.12.2"
  }
 },
 "nbformat": 4,
 "nbformat_minor": 2
}
