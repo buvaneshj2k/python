{
 "cells": [
  {
   "cell_type": "code",
   "execution_count": 2,
   "metadata": {},
   "outputs": [
    {
     "name": "stdout",
     "output_type": "stream",
     "text": [
      "hello world\n"
     ]
    }
   ],
   "source": [
    "print(\"hello world\")"
   ]
  },
  {
   "cell_type": "markdown",
   "metadata": {},
   "source": [
    "String formatting in Python refers to the techniques used to create formatted strings by inserting dynamic values into placeholders within a string. Python provides several ways to format strings, including using the % operator, the .format() method, and f-strings (formatted string literals). Let's explore each method with examples:\n",
    "1. Using % Operator (Old Style Formatting):\n",
    "\n",
    "The % operator allows you to insert values into a string using placeholders %s (for strings), %d (for integers), %f (for floating-point numbers), etc."
   ]
  },
  {
   "cell_type": "code",
   "execution_count": 3,
   "metadata": {},
   "outputs": [
    {
     "name": "stdout",
     "output_type": "stream",
     "text": [
      "My name is Alice and I am 30 years old.\n"
     ]
    }
   ],
   "source": [
    "name = \"Alice\"\n",
    "age = 30\n",
    "formatted_str = \"My name is %s and I am %d years old.\" % (name, age)\n",
    "print(formatted_str)  # Output: My name is Alice and I am 30 years old.\n"
   ]
  },
  {
   "cell_type": "markdown",
   "metadata": {},
   "source": [
    "2. Using .format() Method (Preferred in Python 2.6+):\n",
    "\n",
    "The .format() method provides more flexibility and readability for string formatting. It uses {} as placeholders."
   ]
  },
  {
   "cell_type": "code",
   "execution_count": 4,
   "metadata": {},
   "outputs": [
    {
     "name": "stdout",
     "output_type": "stream",
     "text": [
      "Student Bob has a GPA of 3.5.\n"
     ]
    }
   ],
   "source": [
    "name = \"Bob\"\n",
    "gpa = 3.5\n",
    "formatted_str = \"Student {} has a GPA of {}.\".format(name, gpa)\n",
    "print(formatted_str)  # Output: Student Bob has a GPA of 3.5.\n"
   ]
  },
  {
   "cell_type": "markdown",
   "metadata": {},
   "source": [
    "You can also use numbered placeholders for positional arguments or named placeholders for keyword arguments."
   ]
  },
  {
   "cell_type": "code",
   "execution_count": 5,
   "metadata": {},
   "outputs": [
    {
     "name": "stdout",
     "output_type": "stream",
     "text": [
      "Hello Alice, your age is 25\n",
      "Hello Bob, your age is 30\n"
     ]
    }
   ],
   "source": [
    "formatted_str = \"Hello {0}, your age is {1}\".format(\"Alice\", 25)\n",
    "print(formatted_str)  # Output: Hello Alice, your age is 25\n",
    "\n",
    "formatted_str = \"Hello {name}, your age is {age}\".format(name=\"Bob\", age=30)\n",
    "print(formatted_str)  # Output: Hello Bob, your age is 30\n"
   ]
  },
  {
   "cell_type": "markdown",
   "metadata": {},
   "source": [
    "3. Using f-strings (Formatted String Literals) - Python 3.6+:\n",
    "\n",
    "f-strings provide a more concise and readable way to format strings by prefixing the string with f or F and using {} placeholders."
   ]
  },
  {
   "cell_type": "code",
   "execution_count": 6,
   "metadata": {},
   "outputs": [
    {
     "name": "stdout",
     "output_type": "stream",
     "text": [
      "My name is Charlie and I am 35 years old.\n"
     ]
    }
   ],
   "source": [
    "name = \"Charlie\"\n",
    "age = 35\n",
    "formatted_str = f\"My name is {name} and I am {age} years old.\"\n",
    "print(formatted_str)  # Output: My name is Charlie and I am 35 years old.\n"
   ]
  },
  {
   "cell_type": "markdown",
   "metadata": {},
   "source": [
    "4. Formatting Numeric Values:\n",
    "\n",
    "You can format numeric values with specific precision, padding, and alignment using format specifiers inside the placeholders."
   ]
  },
  {
   "cell_type": "code",
   "execution_count": 7,
   "metadata": {},
   "outputs": [
    {
     "name": "stdout",
     "output_type": "stream",
     "text": [
      "Value of pi: 3.14\n",
      "Number: 00042\n"
     ]
    }
   ],
   "source": [
    "pi = 3.14159265359\n",
    "formatted_pi = f\"Value of pi: {pi:.2f}\"  # Format pi with 2 decimal places\n",
    "print(formatted_pi)  # Output: Value of pi: 3.14\n",
    "\n",
    "num = 42\n",
    "formatted_num = f\"Number: {num:05d}\"  # Pad number with zeros to width 5\n",
    "print(formatted_num)  # Output: Number: 00042\n"
   ]
  },
  {
   "cell_type": "code",
   "execution_count": null,
   "metadata": {},
   "outputs": [],
   "source": []
  }
 ],
 "metadata": {
  "kernelspec": {
   "display_name": "venv",
   "language": "python",
   "name": "python3"
  },
  "language_info": {
   "codemirror_mode": {
    "name": "ipython",
    "version": 3
   },
   "file_extension": ".py",
   "mimetype": "text/x-python",
   "name": "python",
   "nbconvert_exporter": "python",
   "pygments_lexer": "ipython3",
   "version": "3.12.2"
  }
 },
 "nbformat": 4,
 "nbformat_minor": 2
}
