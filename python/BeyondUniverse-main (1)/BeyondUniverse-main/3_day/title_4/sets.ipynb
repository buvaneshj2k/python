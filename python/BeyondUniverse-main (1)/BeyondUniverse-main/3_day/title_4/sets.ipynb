{
 "cells": [
  {
   "cell_type": "code",
   "execution_count": 1,
   "metadata": {},
   "outputs": [
    {
     "name": "stdout",
     "output_type": "stream",
     "text": [
      "hello world\n"
     ]
    }
   ],
   "source": [
    "print(\"hello world\")"
   ]
  },
  {
   "cell_type": "markdown",
   "metadata": {},
   "source": [
    "Sets in Python are unordered collections of unique elements. They are highly useful for performing mathematical operations like union, intersection, difference, and symmetric difference. Sets do not allow duplicate elements, and they are mutable (you can add or remove elements). Let's explore sets and their operations in Python:\n",
    "1. Creating Sets:\n",
    "\n",
    "Sets are created using curly braces {} or the set() constructor."
   ]
  },
  {
   "cell_type": "code",
   "execution_count": 2,
   "metadata": {},
   "outputs": [],
   "source": [
    "# Creating a set using curly braces\n",
    "fruits = {'apple', 'banana', 'cherry'}\n",
    "\n",
    "# Creating a set using the set() constructor\n",
    "colors = set(['red', 'green', 'blue'])\n"
   ]
  },
  {
   "cell_type": "code",
   "execution_count": 3,
   "metadata": {},
   "outputs": [
    {
     "name": "stdout",
     "output_type": "stream",
     "text": [
      "{'banana', 'cherry', 'apple'} 1837563130624 <class 'set'>\n"
     ]
    }
   ],
   "source": [
    "print(fruits, id(fruits), type(fruits))"
   ]
  },
  {
   "cell_type": "code",
   "execution_count": 4,
   "metadata": {},
   "outputs": [
    {
     "name": "stdout",
     "output_type": "stream",
     "text": [
      "{'blue', 'green', 'red'} 1837563130848 <class 'set'>\n"
     ]
    }
   ],
   "source": [
    "print(colors, id(colors), type(colors))"
   ]
  },
  {
   "cell_type": "markdown",
   "metadata": {},
   "source": [
    "2. Set Operations:\n",
    "a. Adding Elements:\n",
    "\n",
    "You can add elements to a set using the add() method."
   ]
  },
  {
   "cell_type": "code",
   "execution_count": 5,
   "metadata": {},
   "outputs": [
    {
     "name": "stdout",
     "output_type": "stream",
     "text": [
      "{'banana', 'orange', 'cherry', 'apple'}\n"
     ]
    }
   ],
   "source": [
    "fruits.add('orange')\n",
    "print(fruits)  # Output: {'apple', 'banana', 'cherry', 'orange'}\n"
   ]
  },
  {
   "cell_type": "markdown",
   "metadata": {},
   "source": [
    "b. Removing Elements:\n",
    "\n",
    "You can remove elements from a set using the remove() or discard() method."
   ]
  },
  {
   "cell_type": "code",
   "execution_count": 6,
   "metadata": {},
   "outputs": [
    {
     "name": "stdout",
     "output_type": "stream",
     "text": [
      "{'orange', 'cherry', 'apple'}\n"
     ]
    }
   ],
   "source": [
    "fruits.remove('banana')\n",
    "print(fruits)  # Output: {'apple', 'cherry', 'orange'}\n",
    "\n",
    "fruits.discard('mango')  # Doesn't raise an error if element doesn't exist\n"
   ]
  },
  {
   "cell_type": "markdown",
   "metadata": {},
   "source": [
    "c. Set Operations:\n",
    "\n",
    "Sets support various mathematical operations:\n",
    "\n",
    "    Union (|): Combines elements from two sets.\n",
    "    Intersection (&): Returns elements common to both sets.\n",
    "    Difference (-): Returns elements in the first set but not in the second set.\n",
    "    Symmetric Difference (^): Returns elements in either set but not in both sets."
   ]
  },
  {
   "cell_type": "code",
   "execution_count": 9,
   "metadata": {},
   "outputs": [
    {
     "name": "stdout",
     "output_type": "stream",
     "text": [
      "{1, 2, 3, 4} {3, 4, 5, 6}\n"
     ]
    }
   ],
   "source": [
    "set1 = {1, 2, 3, 4}\n",
    "set2 = {3, 4, 5, 6}\n",
    "\n",
    "print(set1, set2)\n"
   ]
  },
  {
   "cell_type": "code",
   "execution_count": 10,
   "metadata": {},
   "outputs": [
    {
     "name": "stdout",
     "output_type": "stream",
     "text": [
      "{1, 2, 3, 4, 5, 6}\n"
     ]
    }
   ],
   "source": [
    "# Union\n",
    "union_set = set1 | set2  # or: set1.union(set2)\n",
    "print(union_set)  # Output: {1, 2, 3, 4, 5, 6}\n",
    "\n"
   ]
  },
  {
   "cell_type": "code",
   "execution_count": 11,
   "metadata": {},
   "outputs": [
    {
     "name": "stdout",
     "output_type": "stream",
     "text": [
      "{3, 4}\n"
     ]
    }
   ],
   "source": [
    "# Intersection\n",
    "intersection_set = set1 & set2  # or: set1.intersection(set2)\n",
    "print(intersection_set)  # Output: {3, 4}\n"
   ]
  },
  {
   "cell_type": "code",
   "execution_count": 12,
   "metadata": {},
   "outputs": [
    {
     "name": "stdout",
     "output_type": "stream",
     "text": [
      "{1, 2}\n"
     ]
    }
   ],
   "source": [
    "# Difference\n",
    "difference_set = set1 - set2  # or: set1.difference(set2)\n",
    "print(difference_set)  # Output: {1, 2}"
   ]
  },
  {
   "cell_type": "code",
   "execution_count": 13,
   "metadata": {},
   "outputs": [
    {
     "name": "stdout",
     "output_type": "stream",
     "text": [
      "{1, 2, 5, 6}\n"
     ]
    }
   ],
   "source": [
    "# Symmetric Difference\n",
    "symmetric_diff_set = set1 ^ set2  # or: set1.symmetric_difference(set2)\n",
    "print(symmetric_diff_set)  # Output: {1, 2, 5, 6}\n"
   ]
  },
  {
   "cell_type": "markdown",
   "metadata": {},
   "source": [
    "3. Set Methods:\n",
    "\n",
    "Sets have other useful methods like clear(), copy(), issubset(), issuperset(), isdisjoint(), etc., which you can explore based on your needs."
   ]
  },
  {
   "cell_type": "code",
   "execution_count": 17,
   "metadata": {},
   "outputs": [],
   "source": [
    "# Checking if a set is a subset or superset\n",
    "subset_check = {1, 2}.issubset(set1)  # True\n",
    "superset_check = set1.issuperset({1, 2})  # True"
   ]
  },
  {
   "cell_type": "code",
   "execution_count": 19,
   "metadata": {},
   "outputs": [
    {
     "name": "stdout",
     "output_type": "stream",
     "text": [
      "True True\n"
     ]
    }
   ],
   "source": [
    "print(subset_check,superset_check)"
   ]
  },
  {
   "cell_type": "code",
   "execution_count": 18,
   "metadata": {},
   "outputs": [],
   "source": [
    "# Checking if sets are disjoint\n",
    "disjoint_check = set1.isdisjoint(set2)  # False (they share elements)\n"
   ]
  },
  {
   "cell_type": "code",
   "execution_count": 20,
   "metadata": {},
   "outputs": [
    {
     "name": "stdout",
     "output_type": "stream",
     "text": [
      "False\n"
     ]
    }
   ],
   "source": [
    "print(disjoint_check)"
   ]
  },
  {
   "cell_type": "markdown",
   "metadata": {},
   "source": [
    "Sets provide a powerful and efficient way to perform operations involving unique elements, making them valuable in various programming scenarios, including data manipulation, mathematical operations, and eliminating duplicates in collections."
   ]
  },
  {
   "cell_type": "markdown",
   "metadata": {},
   "source": [
    "1. clear() Method:\n",
    "\n",
    "The clear() method removes all elements from a set, making it an empty set."
   ]
  },
  {
   "cell_type": "code",
   "execution_count": 21,
   "metadata": {},
   "outputs": [
    {
     "name": "stdout",
     "output_type": "stream",
     "text": [
      "Original set: {'banana', 'orange', 'cherry', 'apple'}\n",
      "Set after clear: set()\n"
     ]
    }
   ],
   "source": [
    "fruits = {'apple', 'banana', 'cherry', 'orange'}\n",
    "print(\"Original set:\", fruits)  # Output: Original set: {'banana', 'cherry', 'orange', 'apple'}\n",
    "\n",
    "# Clear the set\n",
    "fruits.clear()\n",
    "print(\"Set after clear:\", fruits)  # Output: Set after clear: set()\n"
   ]
  },
  {
   "cell_type": "markdown",
   "metadata": {},
   "source": [
    "2. copy() Method:\n",
    "\n",
    "The copy() method returns a shallow copy of the set."
   ]
  },
  {
   "cell_type": "code",
   "execution_count": 22,
   "metadata": {},
   "outputs": [
    {
     "name": "stdout",
     "output_type": "stream",
     "text": [
      "Original Set: {1, 2, 3}\n",
      "Copied Set: {1, 2, 3}\n",
      "Modified Original Set: {1, 2, 3, 4}\n",
      "Copied Set remains unchanged: {1, 2, 3}\n"
     ]
    }
   ],
   "source": [
    "set1 = {1, 2, 3}\n",
    "set2 = set1.copy()\n",
    "\n",
    "print(\"Original Set:\", set1)  # Output: Original Set: {1, 2, 3}\n",
    "print(\"Copied Set:\", set2)    # Output: Copied Set: {1, 2, 3}\n",
    "\n",
    "# Modifying the original set does not affect the copy\n",
    "set1.add(4)\n",
    "print(\"Modified Original Set:\", set1)  # Output: Modified Original Set: {1, 2, 3, 4}\n",
    "print(\"Copied Set remains unchanged:\", set2)  # Output: Copied Set remains unchanged: {1, 2, 3}\n"
   ]
  },
  {
   "cell_type": "markdown",
   "metadata": {},
   "source": []
  },
  {
   "cell_type": "markdown",
   "metadata": {},
   "source": [
    "In the above example, set2 is a copy of set1. Changes made to set1 after copying do not affect set2. This behavior is because copy() creates a new set with a shallow copy of the elements, meaning they are independent of each other after copying."
   ]
  }
 ],
 "metadata": {
  "kernelspec": {
   "display_name": "venv",
   "language": "python",
   "name": "python3"
  },
  "language_info": {
   "codemirror_mode": {
    "name": "ipython",
    "version": 3
   },
   "file_extension": ".py",
   "mimetype": "text/x-python",
   "name": "python",
   "nbconvert_exporter": "python",
   "pygments_lexer": "ipython3",
   "version": "3.12.2"
  }
 },
 "nbformat": 4,
 "nbformat_minor": 2
}
