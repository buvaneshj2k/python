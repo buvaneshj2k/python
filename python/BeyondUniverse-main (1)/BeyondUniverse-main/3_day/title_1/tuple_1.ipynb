{
 "cells": [
  {
   "cell_type": "code",
   "execution_count": 1,
   "metadata": {},
   "outputs": [
    {
     "name": "stdout",
     "output_type": "stream",
     "text": [
      "hello world\n"
     ]
    }
   ],
   "source": [
    "print(\"hello world\")"
   ]
  },
  {
   "cell_type": "markdown",
   "metadata": {},
   "source": [
    "Tuples in Python are similar to lists but are immutable, meaning they cannot be modified after creation. Tuples are typically used to store collections of related data that should not be changed, such as coordinates or database records. Let's explore tuples in Python along with some common tuple methods and examples:\n",
    "1. Creating Tuples:\n",
    "\n",
    "Tuples are created using parentheses () and can contain elements of different data types."
   ]
  },
  {
   "cell_type": "code",
   "execution_count": 2,
   "metadata": {},
   "outputs": [],
   "source": [
    "# Creating a tuple\n",
    "my_tuple = (1, 2, 3, 'hello', True)\n"
   ]
  },
  {
   "cell_type": "code",
   "execution_count": 3,
   "metadata": {},
   "outputs": [
    {
     "name": "stdout",
     "output_type": "stream",
     "text": [
      "(1, 2, 3, 'hello', True) <class 'tuple'> 2516106807712\n"
     ]
    }
   ],
   "source": [
    "print(my_tuple, type(my_tuple), id(my_tuple))"
   ]
  },
  {
   "cell_type": "markdown",
   "metadata": {},
   "source": [
    "2. Accessing Elements in a Tuple:\n",
    "\n",
    "Elements in a tuple are accessed using indexing and slicing, similar to lists."
   ]
  },
  {
   "cell_type": "code",
   "execution_count": 4,
   "metadata": {},
   "outputs": [
    {
     "name": "stdout",
     "output_type": "stream",
     "text": [
      "1\n",
      "hello\n",
      "True\n"
     ]
    }
   ],
   "source": [
    "# Accessing elements\n",
    "print(my_tuple[0])  # Output: 1\n",
    "print(my_tuple[3])  # Output: 'hello'\n",
    "print(my_tuple[-1])  # Output: True\n"
   ]
  },
  {
   "cell_type": "markdown",
   "metadata": {},
   "source": [
    "3. Tuple Methods:\n",
    "a. count():\n",
    "\n",
    "Returns the number of occurrences of a specified element in the tuple."
   ]
  },
  {
   "cell_type": "code",
   "execution_count": 5,
   "metadata": {},
   "outputs": [
    {
     "name": "stdout",
     "output_type": "stream",
     "text": [
      "3\n"
     ]
    }
   ],
   "source": [
    "my_tuple = (1, 2, 3, 2, 4, 2)\n",
    "count = my_tuple.count(2)\n",
    "print(count)  # Output: 3\n"
   ]
  },
  {
   "cell_type": "markdown",
   "metadata": {},
   "source": [
    "b. index():\n",
    "\n",
    "Returns the index of the first occurrence of a specified value in the tuple."
   ]
  },
  {
   "cell_type": "code",
   "execution_count": 6,
   "metadata": {},
   "outputs": [
    {
     "name": "stdout",
     "output_type": "stream",
     "text": [
      "0\n"
     ]
    }
   ],
   "source": [
    "my_tuple = ('a', 'b', 'c', 'a', 'd')\n",
    "index = my_tuple.index('a')\n",
    "print(index)  # Output: 0\n"
   ]
  },
  {
   "cell_type": "markdown",
   "metadata": {},
   "source": [
    "4. Tuple Packing and Unpacking:\n",
    "\n",
    "Tuple packing is when multiple values are assigned to a tuple, and tuple unpacking is when the values in a tuple are assigned to multiple variables.\n",
    "Tuple Packing:"
   ]
  },
  {
   "cell_type": "code",
   "execution_count": 7,
   "metadata": {},
   "outputs": [],
   "source": [
    "coordinates = (3, 5)  # Tuple packing\n"
   ]
  },
  {
   "cell_type": "markdown",
   "metadata": {},
   "source": [
    "Tuple Unpacking:"
   ]
  },
  {
   "cell_type": "code",
   "execution_count": 8,
   "metadata": {},
   "outputs": [
    {
     "name": "stdout",
     "output_type": "stream",
     "text": [
      "x: 3, y: 5\n"
     ]
    }
   ],
   "source": [
    "x, y = coordinates  # Tuple unpacking\n",
    "print(f\"x: {x}, y: {y}\")  # Output: x: 3, y: 5\n"
   ]
  },
  {
   "cell_type": "markdown",
   "metadata": {},
   "source": [
    "5. Immutable Nature of Tuples:\n",
    "\n",
    "Tuples cannot be modified once created, but you can create new tuples based on existing ones."
   ]
  },
  {
   "cell_type": "code",
   "execution_count": 9,
   "metadata": {},
   "outputs": [
    {
     "name": "stdout",
     "output_type": "stream",
     "text": [
      "(1, 2, 3, 4, 5)\n"
     ]
    }
   ],
   "source": [
    "my_tuple = (1, 2, 3)\n",
    "# This will raise an error since tuples are immutable\n",
    "# my_tuple[0] = 4\n",
    "\n",
    "# Creating a new tuple based on the existing one\n",
    "new_tuple = my_tuple + (4, 5)\n",
    "print(new_tuple)  # Output: (1, 2, 3, 4, 5)\n"
   ]
  },
  {
   "cell_type": "markdown",
   "metadata": {},
   "source": [
    "Tuples are useful for situations where you want to store a collection of values that should not be changed, such as coordinates, configuration settings, or database records. Understanding tuple methods and their immutability is important when working with tuples in Python."
   ]
  }
 ],
 "metadata": {
  "kernelspec": {
   "display_name": "venv",
   "language": "python",
   "name": "python3"
  },
  "language_info": {
   "codemirror_mode": {
    "name": "ipython",
    "version": 3
   },
   "file_extension": ".py",
   "mimetype": "text/x-python",
   "name": "python",
   "nbconvert_exporter": "python",
   "pygments_lexer": "ipython3",
   "version": "3.12.2"
  }
 },
 "nbformat": 4,
 "nbformat_minor": 2
}
