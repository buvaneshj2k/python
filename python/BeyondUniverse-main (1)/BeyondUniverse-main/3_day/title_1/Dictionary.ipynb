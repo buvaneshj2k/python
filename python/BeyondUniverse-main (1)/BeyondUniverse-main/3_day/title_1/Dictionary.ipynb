{
 "cells": [
  {
   "cell_type": "code",
   "execution_count": 2,
   "metadata": {},
   "outputs": [
    {
     "name": "stdout",
     "output_type": "stream",
     "text": [
      "hello world\n"
     ]
    }
   ],
   "source": [
    "print(\"hello world\")"
   ]
  },
  {
   "cell_type": "markdown",
   "metadata": {},
   "source": [
    "Dictionaries in Python are unordered collections of key-value pairs. They are extremely useful for storing and manipulating data where access is based on keys rather than indices, providing fast lookups and insertions. Here, we'll discuss dictionaries and some common dictionary methods in Python:\n",
    "1. Creating a Dictionary:\n",
    "\n",
    "Dictionaries are defined using curly braces {} and consist of key-value pairs separated by colons :."
   ]
  },
  {
   "cell_type": "code",
   "execution_count": 3,
   "metadata": {},
   "outputs": [],
   "source": [
    "# Creating a dictionary\n",
    "person = {\n",
    "    \"name\": \"Alice\",\n",
    "    \"age\": 30,\n",
    "    \"city\": \"New York\"\n",
    "}\n"
   ]
  },
  {
   "cell_type": "code",
   "execution_count": 4,
   "metadata": {},
   "outputs": [
    {
     "name": "stdout",
     "output_type": "stream",
     "text": [
      "{'name': 'Alice', 'age': 30, 'city': 'New York'} <class 'dict'> 1663828781312\n"
     ]
    }
   ],
   "source": [
    "print(person, type(person), id(person))"
   ]
  },
  {
   "cell_type": "markdown",
   "metadata": {},
   "source": [
    "2. Accessing Values in a Dictionary:\n",
    "\n",
    "Values in a dictionary are accessed using their keys."
   ]
  },
  {
   "cell_type": "code",
   "execution_count": 5,
   "metadata": {},
   "outputs": [
    {
     "name": "stdout",
     "output_type": "stream",
     "text": [
      "Alice\n",
      "30\n",
      "New York\n"
     ]
    }
   ],
   "source": [
    "# Accessing values\n",
    "print(person[\"name\"])  # Output: Alice\n",
    "print(person[\"age\"])   # Output: 30\n",
    "print(person.get(\"city\"))  # Output: New York\n"
   ]
  },
  {
   "cell_type": "markdown",
   "metadata": {},
   "source": [
    "3. Dictionary Methods:\n",
    "a. keys():\n",
    "\n",
    "Returns a view object containing the keys of the dictionary."
   ]
  },
  {
   "cell_type": "code",
   "execution_count": 6,
   "metadata": {},
   "outputs": [
    {
     "name": "stdout",
     "output_type": "stream",
     "text": [
      "dict_keys(['name', 'age', 'city'])\n"
     ]
    }
   ],
   "source": [
    "keys = person.keys()\n",
    "print(keys)  # Output: dict_keys(['name', 'age', 'city'])\n"
   ]
  },
  {
   "cell_type": "markdown",
   "metadata": {},
   "source": [
    "b. values():\n",
    "\n",
    "Returns a view object containing the values of the dictionary."
   ]
  },
  {
   "cell_type": "code",
   "execution_count": 7,
   "metadata": {},
   "outputs": [
    {
     "name": "stdout",
     "output_type": "stream",
     "text": [
      "dict_values(['Alice', 30, 'New York'])\n"
     ]
    }
   ],
   "source": [
    "values = person.values()\n",
    "print(values)  # Output: dict_values(['Alice', 30, 'New York'])\n"
   ]
  },
  {
   "cell_type": "markdown",
   "metadata": {},
   "source": [
    "c. items():\n",
    "\n",
    "Returns a view object containing the key-value pairs of the dictionary as tuples."
   ]
  },
  {
   "cell_type": "code",
   "execution_count": 8,
   "metadata": {},
   "outputs": [
    {
     "name": "stdout",
     "output_type": "stream",
     "text": [
      "dict_items([('name', 'Alice'), ('age', 30), ('city', 'New York')])\n"
     ]
    }
   ],
   "source": [
    "items = person.items()\n",
    "print(items)  # Output: dict_items([('name', 'Alice'), ('age', 30), ('city', 'New York')])\n"
   ]
  },
  {
   "cell_type": "markdown",
   "metadata": {},
   "source": [
    "d. get():\n",
    "\n",
    "Returns the value for the specified key. Returns None if the key is not found."
   ]
  },
  {
   "cell_type": "code",
   "execution_count": 9,
   "metadata": {},
   "outputs": [
    {
     "name": "stdout",
     "output_type": "stream",
     "text": [
      "30\n",
      "Unemployed\n"
     ]
    }
   ],
   "source": [
    "age = person.get(\"age\")\n",
    "print(age)  # Output: 30\n",
    "\n",
    "# Using a default value if the key is not found\n",
    "occupation = person.get(\"occupation\", \"Unemployed\")\n",
    "print(occupation)  # Output: Unemployed\n"
   ]
  },
  {
   "cell_type": "markdown",
   "metadata": {},
   "source": [
    "e. pop():\n",
    "\n",
    "Removes the item with the specified key and returns its value."
   ]
  },
  {
   "cell_type": "code",
   "execution_count": 10,
   "metadata": {},
   "outputs": [
    {
     "name": "stdout",
     "output_type": "stream",
     "text": [
      "New York\n",
      "{'name': 'Alice', 'age': 30}\n"
     ]
    }
   ],
   "source": [
    "city = person.pop(\"city\")\n",
    "print(city)  # Output: New York\n",
    "print(person)  # Output: {'name': 'Alice', 'age': 30}\n"
   ]
  },
  {
   "cell_type": "markdown",
   "metadata": {},
   "source": [
    "f. update():\n",
    "\n",
    "Updates the dictionary with the specified key-value pairs from another dictionary or iterable."
   ]
  },
  {
   "cell_type": "code",
   "execution_count": 12,
   "metadata": {},
   "outputs": [
    {
     "name": "stdout",
     "output_type": "stream",
     "text": [
      "{'name': 'Alice', 'age': 35, 'occupation': 'Engineer'}\n"
     ]
    }
   ],
   "source": [
    "person.update({\"occupation\": \"Engineer\", \"age\": 35})\n",
    "print(person)  # Output: {'name': 'Alice', 'age': 35, 'occupation': 'Engineer'}\n"
   ]
  },
  {
   "cell_type": "markdown",
   "metadata": {},
   "source": [
    "g. clear():\n",
    "\n",
    "Removes all items from the dictionary."
   ]
  },
  {
   "cell_type": "code",
   "execution_count": 13,
   "metadata": {},
   "outputs": [
    {
     "name": "stdout",
     "output_type": "stream",
     "text": [
      "{}\n"
     ]
    }
   ],
   "source": [
    "person.clear()\n",
    "print(person)  # Output: {}\n"
   ]
  },
  {
   "cell_type": "markdown",
   "metadata": {},
   "source": [
    "These methods allow you to manipulate and work with dictionary data efficiently, making dictionaries a powerful tool for managing key-value data in Python. "
   ]
  },
  {
   "cell_type": "code",
   "execution_count": null,
   "metadata": {},
   "outputs": [],
   "source": []
  }
 ],
 "metadata": {
  "kernelspec": {
   "display_name": "venv",
   "language": "python",
   "name": "python3"
  },
  "language_info": {
   "codemirror_mode": {
    "name": "ipython",
    "version": 3
   },
   "file_extension": ".py",
   "mimetype": "text/x-python",
   "name": "python",
   "nbconvert_exporter": "python",
   "pygments_lexer": "ipython3",
   "version": "3.12.2"
  }
 },
 "nbformat": 4,
 "nbformat_minor": 2
}
