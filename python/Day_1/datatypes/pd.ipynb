{
 "cells": [
  {
   "cell_type": "code",
   "execution_count": 1,
   "metadata": {},
   "outputs": [
    {
     "name": "stdout",
     "output_type": "stream",
     "text": [
      "Name:  buvi ,Type:  <class 'str'>\n",
      "Age:  23 ,Type:  <class 'int'>\n",
      "Mail_Id:  buvaneshj2k@gmail.com ,Type:  <class 'str'>\n",
      "Place:  Perungalthur ,Type:  <class 'str'>\n",
      "College name:  Amrita ,Type:  <class 'str'>\n",
      "Percentage:  76.5 ,Type:  <class 'float'>\n",
      "Color:  orange ,Type:  <class 'str'>\n",
      "Blood Group: O+ ,Type: <class 'str'>\n",
      "Gender: Male ,Type: <class 'str'>\n",
      "Currently Working: True ,Type: <class 'bool'>\n"
     ]
    }
   ],
   "source": [
    "name='Buvanesh'\n",
    "age=23\n",
    "mail=\"buvaneshj2k@gmail.com\"\n",
    "place=\"Perungalthur\"\n",
    "college=\"Amrita\"\n",
    "percentage=76.5\n",
    "fav_color=\"orange\"\n",
    "b_group=\"O+\"\n",
    "Gender=\"Male\"\n",
    "Currently_working=True\n",
    "print(\"Name: \",name,\",Type: \",type(name))\n",
    "print(\"Age: \",age,\",Type: \",type(age))\n",
    "print(\"Mail_Id: \",mail,\",Type: \",type(mail))\n",
    "print(\"Place: \",place,\",Type: \",type(place))\n",
    "print(\"College name: \",college,\",Type: \",type(college))\n",
    "print(\"Percentage: \",percentage,\",Type: \",type(percentage))\n",
    "print(\"Color: \",fav_color,\",Type: \",type(fav_color))\n",
    "print(\"Blood Group:\",b_group,\",Type:\",type(b_group))\n",
    "print(\"Gender:\",Gender,\",Type:\",type(Gender))\n",
    "print(\"Currently Working:\",Currently_working,\",Type:\",type(Currently_working))"
   ]
  },
  {
   "cell_type": "code",
   "execution_count": 1,
   "metadata": {},
   "outputs": [
    {
     "name": "stdout",
     "output_type": "stream",
     "text": [
      "1.0\n"
     ]
    }
   ],
   "source": [
    "import math\n",
    "print(math.remainder(5,2))"
   ]
  },
  {
   "cell_type": "code",
   "execution_count": 3,
   "metadata": {},
   "outputs": [
    {
     "name": "stdout",
     "output_type": "stream",
     "text": [
      "18\n"
     ]
    }
   ],
   "source": [
    "a=[1,2,3]\n",
    "b=[3,3,3]\n",
    "print(math.sumprod(a,b))\n",
    "print(math.pi)"
   ]
  },
  {
   "cell_type": "code",
   "execution_count": 4,
   "metadata": {},
   "outputs": [
    {
     "data": {
      "text/plain": [
       "3.141592653589793"
      ]
     },
     "execution_count": 4,
     "metadata": {},
     "output_type": "execute_result"
    }
   ],
   "source": [
    "from math import *\n",
    "pi"
   ]
  },
  {
   "cell_type": "code",
   "execution_count": 5,
   "metadata": {},
   "outputs": [
    {
     "data": {
      "text/plain": [
       "18"
      ]
     },
     "execution_count": 5,
     "metadata": {},
     "output_type": "execute_result"
    }
   ],
   "source": [
    "sumprod(a,b)"
   ]
  },
  {
   "cell_type": "code",
   "execution_count": 6,
   "metadata": {},
   "outputs": [
    {
     "data": {
      "text/plain": [
       "123"
      ]
     },
     "execution_count": 6,
     "metadata": {},
     "output_type": "execute_result"
    }
   ],
   "source": [
    "trunc(123.9)"
   ]
  },
  {
   "cell_type": "code",
   "execution_count": 13,
   "metadata": {},
   "outputs": [
    {
     "data": {
      "text/plain": [
       "12"
      ]
     },
     "execution_count": 13,
     "metadata": {},
     "output_type": "execute_result"
    }
   ],
   "source": [
    "floor(12.9)"
   ]
  },
  {
   "cell_type": "code",
   "execution_count": 15,
   "metadata": {},
   "outputs": [
    {
     "data": {
      "text/plain": [
       "54"
      ]
     },
     "execution_count": 15,
     "metadata": {},
     "output_type": "execute_result"
    }
   ],
   "source": [
    "prod()"
   ]
  },
  {
   "cell_type": "code",
   "execution_count": 16,
   "metadata": {},
   "outputs": [
    {
     "data": {
      "text/plain": [
       "1.7763568394002505e-15"
      ]
     },
     "execution_count": 16,
     "metadata": {},
     "output_type": "execute_result"
    }
   ],
   "source": [
    "ulp(12.21)"
   ]
  },
  {
   "cell_type": "code",
   "execution_count": null,
   "metadata": {},
   "outputs": [],
   "source": [
    "fsum()"
   ]
  }
 ],
 "metadata": {
  "kernelspec": {
   "display_name": "venv",
   "language": "python",
   "name": "python3"
  },
  "language_info": {
   "codemirror_mode": {
    "name": "ipython",
    "version": 3
   },
   "file_extension": ".py",
   "mimetype": "text/x-python",
   "name": "python",
   "nbconvert_exporter": "python",
   "pygments_lexer": "ipython3",
   "version": "3.12.0"
  }
 },
 "nbformat": 4,
 "nbformat_minor": 2
}
