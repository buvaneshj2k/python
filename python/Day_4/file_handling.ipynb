{
 "cells": [
  {
   "cell_type": "code",
   "execution_count": 4,
   "metadata": {},
   "outputs": [
    {
     "name": "stdout",
     "output_type": "stream",
     "text": [
      "\n"
     ]
    }
   ],
   "source": [
    "file=open(\"busoft.txt\",'w')\n",
    "file.write(\"Name\\t:Buvanesh\")\n",
    "file.write(\"\\nCompany\\t:Beyond Universe\")\n",
    "file.write(\"\\nRole\\t:Developer\")\n",
    "file.write(\"\\nExperience\\t:Fresher\")\n",
    "file.write(\"\\nSkills\\t:Python\")\n",
    "file.close()"
   ]
  },
  {
   "cell_type": "code",
   "execution_count": 5,
   "metadata": {},
   "outputs": [
    {
     "name": "stdout",
     "output_type": "stream",
     "text": [
      "Name\t:Buvanesh\n",
      "Company\t:Beyond Universe\n",
      "Role\t:Developer\n",
      "Experience\t:Fresher\n",
      "Skills\t:Python\n"
     ]
    }
   ],
   "source": [
    "with open(\"busoft.txt\",\"r\") as file:\n",
    "    print(file.read())"
   ]
  },
  {
   "cell_type": "code",
   "execution_count": 1,
   "metadata": {},
   "outputs": [
    {
     "name": "stdout",
     "output_type": "stream",
     "text": [
      "507\n"
     ]
    }
   ],
   "source": [
    "with open(\"lorem.txt\",'r') as file:\n",
    "    content = file.read()\n",
    "    res=content.split()\n",
    "    print(len(res))"
   ]
  },
  {
   "cell_type": "code",
   "execution_count": null,
   "metadata": {},
   "outputs": [],
   "source": []
  }
 ],
 "metadata": {
  "kernelspec": {
   "display_name": "venv",
   "language": "python",
   "name": "python3"
  },
  "language_info": {
   "codemirror_mode": {
    "name": "ipython",
    "version": 3
   },
   "file_extension": ".py",
   "mimetype": "text/x-python",
   "name": "python",
   "nbconvert_exporter": "python",
   "pygments_lexer": "ipython3",
   "version": "3.12.0"
  }
 },
 "nbformat": 4,
 "nbformat_minor": 2
}
