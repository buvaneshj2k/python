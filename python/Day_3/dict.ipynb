{
 "cells": [
  {
   "cell_type": "markdown",
   "metadata": {},
   "source": [
    "clear',\n",
    "'copy',\n",
    "'fromkeys',\n",
    "'get',\n",
    "'items',\n",
    "'keys',\n",
    "'pop',\n",
    "'popitem',\n",
    "'setdefault',\n",
    "'update',\n",
    "'values'"
   ]
  },
  {
   "cell_type": "code",
   "execution_count": 21,
   "metadata": {},
   "outputs": [],
   "source": [
    "bio_dict={\"Name\":\"Buvi\",\"Age\":23,\"Gender\":\"Male\",\"email\":\"buvaneshj2k@gmail.com\",\n",
    "          \"College\":\"Amrita College\",\"Degree\":\"B.E\",\"Dept\":\"CSE\",\n",
    "          \"Yop\":\"2022\",\"Percentage\":76.5}"
   ]
  },
  {
   "cell_type": "code",
   "execution_count": 7,
   "metadata": {},
   "outputs": [
    {
     "data": {
      "text/plain": [
       "'Buvi'"
      ]
     },
     "execution_count": 7,
     "metadata": {},
     "output_type": "execute_result"
    }
   ],
   "source": [
    "bio_dict.get('Name')"
   ]
  },
  {
   "cell_type": "code",
   "execution_count": 8,
   "metadata": {},
   "outputs": [
    {
     "data": {
      "text/plain": [
       "dict_items([('Name', 'Buvi'), ('Age', 23), ('Gender', 'Male'), ('email', 'buvaneshj2k@gmail.com'), ('College', 'Amrita College'), ('Degree', 'B.E'), ('Dept', 'CSE'), ('Yop', '2022'), ('Percentage', 76.5)])"
      ]
     },
     "execution_count": 8,
     "metadata": {},
     "output_type": "execute_result"
    }
   ],
   "source": [
    "bio_dict.items()"
   ]
  },
  {
   "cell_type": "code",
   "execution_count": 9,
   "metadata": {},
   "outputs": [
    {
     "data": {
      "text/plain": [
       "dict_keys(['Name', 'Age', 'Gender', 'email', 'College', 'Degree', 'Dept', 'Yop', 'Percentage'])"
      ]
     },
     "execution_count": 9,
     "metadata": {},
     "output_type": "execute_result"
    }
   ],
   "source": [
    "bio_dict.keys()"
   ]
  },
  {
   "cell_type": "code",
   "execution_count": 16,
   "metadata": {},
   "outputs": [
    {
     "name": "stdout",
     "output_type": "stream",
     "text": [
      "2022\n"
     ]
    }
   ],
   "source": [
    "a=bio_dict.pop(\"Yop\")\n",
    "print(a)"
   ]
  },
  {
   "cell_type": "code",
   "execution_count": 11,
   "metadata": {},
   "outputs": [
    {
     "data": {
      "text/plain": [
       "{'Name': 'Buvi',\n",
       " 'Age': 23,\n",
       " 'Gender': 'Male',\n",
       " 'email': 'buvaneshj2k@gmail.com',\n",
       " 'College': 'Amrita College',\n",
       " 'Degree': 'B.E',\n",
       " 'Dept': 'CSE',\n",
       " 'Percentage': 76.5}"
      ]
     },
     "execution_count": 11,
     "metadata": {},
     "output_type": "execute_result"
    }
   ],
   "source": [
    "bio_dict"
   ]
  },
  {
   "cell_type": "code",
   "execution_count": 20,
   "metadata": {},
   "outputs": [
    {
     "data": {
      "text/plain": [
       "('Yop', '2022')"
      ]
     },
     "execution_count": 20,
     "metadata": {},
     "output_type": "execute_result"
    }
   ],
   "source": [
    "bio_dict.popitem()"
   ]
  },
  {
   "cell_type": "code",
   "execution_count": 24,
   "metadata": {},
   "outputs": [
    {
     "data": {
      "text/plain": [
       "'Buvi'"
      ]
     },
     "execution_count": 24,
     "metadata": {},
     "output_type": "execute_result"
    }
   ],
   "source": [
    "bio_dict.setdefault(\"Dob\",\"11-06-2000\")"
   ]
  },
  {
   "cell_type": "code",
   "execution_count": 23,
   "metadata": {},
   "outputs": [
    {
     "data": {
      "text/plain": [
       "{'Name': 'Buvi',\n",
       " 'Age': 23,\n",
       " 'Gender': 'Male',\n",
       " 'email': 'buvaneshj2k@gmail.com',\n",
       " 'College': 'Amrita College',\n",
       " 'Degree': 'B.E',\n",
       " 'Dept': 'CSE',\n",
       " 'Yop': '2022',\n",
       " 'Percentage': 76.5,\n",
       " 'Dob': '11-06-2000'}"
      ]
     },
     "execution_count": 23,
     "metadata": {},
     "output_type": "execute_result"
    }
   ],
   "source": [
    "bio_dict"
   ]
  },
  {
   "cell_type": "code",
   "execution_count": 30,
   "metadata": {},
   "outputs": [
    {
     "name": "stdout",
     "output_type": "stream",
     "text": [
      "Help on method_descriptor:\n",
      "\n",
      "update(...)\n",
      "    D.update([E, ]**F) -> None.  Update D from dict/iterable E and F.\n",
      "    If E is present and has a .keys() method, then does:  for k in E: D[k] = E[k]\n",
      "    If E is present and lacks a .keys() method, then does:  for k, v in E: D[k] = v\n",
      "    In either case, this is followed by: for k in F:  D[k] = F[k]\n",
      "\n"
     ]
    }
   ],
   "source": [
    "help(dict.update)"
   ]
  },
  {
   "cell_type": "code",
   "execution_count": 31,
   "metadata": {},
   "outputs": [],
   "source": [
    "bio_dict.update({'Dob':'11-07-2000'})"
   ]
  },
  {
   "cell_type": "code",
   "execution_count": 32,
   "metadata": {},
   "outputs": [
    {
     "data": {
      "text/plain": [
       "{'Name': 'Buvi',\n",
       " 'Age': 23,\n",
       " 'Gender': 'Male',\n",
       " 'email': 'buvaneshj2k@gmail.com',\n",
       " 'College': 'Amrita College',\n",
       " 'Degree': 'B.E',\n",
       " 'Dept': 'CSE',\n",
       " 'Yop': '2022',\n",
       " 'Percentage': 76.5,\n",
       " 'Dob': '11-07-2000'}"
      ]
     },
     "execution_count": 32,
     "metadata": {},
     "output_type": "execute_result"
    }
   ],
   "source": [
    "bio_dict"
   ]
  },
  {
   "cell_type": "code",
   "execution_count": null,
   "metadata": {},
   "outputs": [],
   "source": []
  }
 ],
 "metadata": {
  "kernelspec": {
   "display_name": "venv",
   "language": "python",
   "name": "python3"
  },
  "language_info": {
   "codemirror_mode": {
    "name": "ipython",
    "version": 3
   },
   "file_extension": ".py",
   "mimetype": "text/x-python",
   "name": "python",
   "nbconvert_exporter": "python",
   "pygments_lexer": "ipython3",
   "version": "3.12.0"
  }
 },
 "nbformat": 4,
 "nbformat_minor": 2
}
