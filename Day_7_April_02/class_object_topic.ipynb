{
 "cells": [
  {
   "cell_type": "code",
   "execution_count": 12,
   "metadata": {},
   "outputs": [],
   "source": [
    "class details:\n",
    "    def __init__(self,name,desi,dep):\n",
    "        self.name=name\n",
    "        self.designation=desi\n",
    "        self.dep=dep\n",
    "    def __repr__(self):\n",
    "        return f\"Hi ! {self.name} \\nYour Designation : {self.designation} \\nYour department: {self.dep}.\""
   ]
  },
  {
   "cell_type": "code",
   "execution_count": null,
   "metadata": {},
   "outputs": [],
   "source": []
  },
  {
   "cell_type": "code",
   "execution_count": 13,
   "metadata": {},
   "outputs": [],
   "source": [
    "student1=details(\"Buvi\",\"Student\",\"Computer\")\n",
    "student2=details(\"Hari\",\"Student\",\"IT\")\n",
    "student3=details(\"Abi\",\"Student\",\"Civil\")\n",
    "student4=details(\"Vignesh\",\"Student\",\"Mech\")\n",
    "student5=details(\"Varun\",\"Student\",\"EEE\")"
   ]
  },
  {
   "cell_type": "code",
   "execution_count": 17,
   "metadata": {},
   "outputs": [
    {
     "data": {
      "text/plain": [
       "'Hi ! Buvanesh \\nYour Designation : Student \\nYour department: Computer.'"
      ]
     },
     "execution_count": 17,
     "metadata": {},
     "output_type": "execute_result"
    }
   ],
   "source": [
    "repr(student1)"
   ]
  },
  {
   "cell_type": "code",
   "execution_count": 14,
   "metadata": {},
   "outputs": [
    {
     "name": "stdout",
     "output_type": "stream",
     "text": [
      "Hi ! Buvi \n",
      "Your Designation : Student \n",
      "Your department: Computer. \n",
      "\n",
      "Hi ! Hari \n",
      "Your Designation : Student \n",
      "Your department: IT. \n",
      "\n",
      "Hi ! Abi \n",
      "Your Designation : Student \n",
      "Your department: Civil. \n",
      "\n",
      "Hi ! Vignesh \n",
      "Your Designation : Student \n",
      "Your department: Mech. \n",
      "\n",
      "Hi ! Varun \n",
      "Your Designation : Student \n",
      "Your department: EEE. \n",
      "\n"
     ]
    }
   ],
   "source": [
    "print(student1,\"\\n\")\n",
    "print(student2,\"\\n\")\n",
    "print(student3,\"\\n\")\n",
    "print(student4,\"\\n\")\n",
    "print(student5,\"\\n\")"
   ]
  },
  {
   "cell_type": "code",
   "execution_count": 15,
   "metadata": {},
   "outputs": [],
   "source": [
    "student5.dep=\"ECE\"\n",
    "student1.name=\"Buvanesh\"\n",
    "student4.designation=\"Staff\""
   ]
  },
  {
   "cell_type": "code",
   "execution_count": 16,
   "metadata": {},
   "outputs": [
    {
     "name": "stdout",
     "output_type": "stream",
     "text": [
      "Hi ! Buvanesh \n",
      "Your Designation : Student \n",
      "Your department: Computer. \n",
      "\n",
      "Hi ! Hari \n",
      "Your Designation : Student \n",
      "Your department: IT. \n",
      "\n",
      "Hi ! Abi \n",
      "Your Designation : Student \n",
      "Your department: Civil. \n",
      "\n",
      "Hi ! Vignesh \n",
      "Your Designation : Staff \n",
      "Your department: Mech. \n",
      "\n",
      "Hi ! Varun \n",
      "Your Designation : Student \n",
      "Your department: ECE. \n",
      "\n"
     ]
    }
   ],
   "source": [
    "print(student1,\"\\n\")\n",
    "print(student2,\"\\n\")\n",
    "print(student3,\"\\n\")\n",
    "print(student4,\"\\n\")\n",
    "print(student5,\"\\n\")"
   ]
  },
  {
   "cell_type": "code",
   "execution_count": 22,
   "metadata": {},
   "outputs": [
    {
     "name": "stdout",
     "output_type": "stream",
     "text": [
      "True\n"
     ]
    }
   ],
   "source": [
    "a=5\n",
    "b=5\n",
    "if a == b:\n",
    "    print(\"True\")\n",
    "else:\n",
    "    print(\"False\")"
   ]
  },
  {
   "cell_type": "code",
   "execution_count": null,
   "metadata": {},
   "outputs": [],
   "source": []
  }
 ],
 "metadata": {
  "kernelspec": {
   "display_name": "venv",
   "language": "python",
   "name": "python3"
  },
  "language_info": {
   "codemirror_mode": {
    "name": "ipython",
    "version": 3
   },
   "file_extension": ".py",
   "mimetype": "text/x-python",
   "name": "python",
   "nbconvert_exporter": "python",
   "pygments_lexer": "ipython3",
   "version": "3.12.0"
  }
 },
 "nbformat": 4,
 "nbformat_minor": 2
}
