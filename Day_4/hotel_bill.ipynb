{
 "cells": [
  {
   "cell_type": "code",
   "execution_count": 9,
   "metadata": {},
   "outputs": [
    {
     "name": "stdout",
     "output_type": "stream",
     "text": [
      "Bill No: 50000\n",
      "Hotel Name : Guna Hotel\n",
      "S.No\tFood_item\t Quantity\tTotal\n",
      "1 \t boori \t\t 4 \t\t 60\n",
      "2 \t chapathy \t 5 \t\t 75\n",
      "Grand Total : 135\n"
     ]
    }
   ],
   "source": [
    "import food_items\n",
    "bill_no=50000\n",
    "while(True):\n",
    "    g_total=0\n",
    "    s_no=1\n",
    "    print(f\"Bill No: {bill_no}\")\n",
    "    print(f\"Hotel Name : {food_items.Hotel_Name}\")\n",
    "    print(\"S.No\\tFood_item\\t Quantity\\tTotal\")\n",
    "    while(True):\n",
    "        total=0\n",
    "        food=input(\"Enter food name:\")\n",
    "        num=int(input(\"Enter Quantity:\"))\n",
    "        if food.lower() == 'idly':\n",
    "            total=food_items.idly*num\n",
    "        elif food.lower() == 'pongal':\n",
    "            total=food_items.pongal*num\n",
    "        elif food.lower() == 'dosai':\n",
    "            total=food_items.dosai*num\n",
    "        elif food.lower() == 'boori':\n",
    "            total=food_items.boori*num\n",
    "        elif food.lower() == 'chapathy':\n",
    "            total=food_items.chapathy*num\n",
    "        else:\n",
    "            print('Enter valid name like : Idly,Pongal,Dosai,Boori,Chapathy')\n",
    "        g_total+=total\n",
    "        repeat=input(\"Do You need next Food(y/n)\")\n",
    "        if repeat.lower() == 'y' or repeat.lower() == 'yes':\n",
    "            if food.lower() == 'idly' or food.lower() == 'dosai' or food.lower() == 'boori':\n",
    "                print(f\"{s_no} \\t {food} \\t\\t {num} \\t\\t {total}\")\n",
    "            else:\n",
    "                print(f\"{s_no} \\t {food} \\t {num} \\t\\t {total}\")\n",
    "            s_no+=1\n",
    "        else:\n",
    "            if food.lower() == 'idly' or food.lower() == 'dosai' or food.lower() == 'boori':\n",
    "                print(f\"{s_no} \\t {food} \\t\\t {num} \\t\\t {total}\")\n",
    "            else:\n",
    "                print(f\"{s_no} \\t {food} \\t {num} \\t\\t {total}\")\n",
    "            print(f\"Grand Total : {g_total}\")\n",
    "            break\n",
    "    con=input(\"Do you need to continue bill generation (y/n)\")\n",
    "    if con.lower() == 'y' or con.lower() == 'yes':\n",
    "        bill_no+=1\n",
    "    else:\n",
    "        break"
   ]
  },
  {
   "cell_type": "code",
   "execution_count": null,
   "metadata": {},
   "outputs": [],
   "source": []
  }
 ],
 "metadata": {
  "kernelspec": {
   "display_name": "venv",
   "language": "python",
   "name": "python3"
  },
  "language_info": {
   "codemirror_mode": {
    "name": "ipython",
    "version": 3
   },
   "file_extension": ".py",
   "mimetype": "text/x-python",
   "name": "python",
   "nbconvert_exporter": "python",
   "pygments_lexer": "ipython3",
   "version": "3.12.0"
  }
 },
 "nbformat": 4,
 "nbformat_minor": 2
}
