{
 "cells": [
  {
   "cell_type": "code",
   "execution_count": 2,
   "metadata": {},
   "outputs": [
    {
     "name": "stdout",
     "output_type": "stream",
     "text": [
      "addition is 3\n",
      "Substraction is 1\n",
      "Multiplication is 2\n",
      "Power is 2\n",
      "Division of 2 by 1 is 2.0\n",
      "Floor Division of 2 by 1 is 2\n",
      "Modulo of 2 in 1 is 0\n"
     ]
    }
   ],
   "source": [
    "# Arithmetic Operations\n",
    "num1=int(input(\"Enter first number:\"))\n",
    "num2=int(input(\"Enter second number:\"))\n",
    "\n",
    "# num1ddition\n",
    "print(f\"addition is {num1+num2}\")\n",
    "\n",
    "# sunum2strnum1ction\n",
    "if num1 >=num2 :\n",
    "    print(f\"Substraction is {num1-num2}\")\n",
    "else:\n",
    "    print(f\"Substraction is {num2-num1}\")\n",
    "\n",
    "# multiplicnum1tion\n",
    "print(f\"Multiplication is {num1*num2}\")\n",
    "\n",
    "# Power\n",
    "print(f\"Power is {num1**num2}\")\n",
    "\n",
    "# Divide\n",
    "if num1 > 0 and num2 > 0:\n",
    "    print(f\"Division of {num1} by {num2} is {num1/num2}\")\n",
    "\n",
    "else:\n",
    "    print(\"Values must be greater than 0\")\n",
    "\n",
    "# Floor Divide\n",
    "if num1 > 0 and num2 > 0:\n",
    "    print(f\"Floor Division of {num1} by {num2} is {num1//num2}\")\n",
    "\n",
    "else:\n",
    "    print(\"Values must be greater than 0\")\n",
    "\n",
    "# Modulo\n",
    "print(f\"Modulo of {num1} in {num2} is {num1%num2}\")"
   ]
  },
  {
   "cell_type": "code",
   "execution_count": null,
   "metadata": {},
   "outputs": [],
   "source": [
    "# Logical Operators\n",
    "\n",
    "# AND Operation\n",
    "number_1=5\n",
    "number_2=5\n",
    "if number_1 == 5 and number_2 == 5:\n",
    "    print(\"Number 1 and number 2 are same as 5.\")\n",
    "\n",
    "elif number_1 ==5 or number_2 == 5:\n",
    "    print(\"Either number 1 or number 2 is equal to 5.\")\n",
    "\n",
    "else:\n",
    "    print(\"both are not equal to 5\")"
   ]
  },
  {
   "cell_type": "code",
   "execution_count": null,
   "metadata": {},
   "outputs": [],
   "source": [
    "# Conditional Operator\n",
    "# == , != , <= , >= , > , < \n",
    "\n",
    "number1=int(input(\"Enter first number:\"))\n",
    "number2=int(input(\"Enter second number:\"))\n",
    "\n",
    "if number1 == number2:\n",
    "    print(f\"{number1},{number2} are equal\")\n",
    "\n",
    "elif number1 != number2:\n",
    "    print(f\"{number1},{number2} are not equal\")\n",
    "\n",
    "elif number1 <= number2:\n",
    "    print(f\"{number1} is lessthan or equal to {number2}\")\n",
    "\n",
    "elif number1 >= number2:\n",
    "    print(f\"{number1} is greater than or equal to {number2}\")\n",
    "\n",
    "elif number1 < number2:\n",
    "    print(f\"{number1} is lessthan {number2}\")\n",
    "\n",
    "elif number1 > number2:\n",
    "    print(f\"{number1} is greater than {number2}\")\n",
    "\n",
    "else:\n",
    "    print(\"Enter a valid input.\")"
   ]
  },
  {
   "cell_type": "code",
   "execution_count": 6,
   "metadata": {},
   "outputs": [
    {
     "name": "stdout",
     "output_type": "stream",
     "text": [
      "8 is not present in [1, 2, 3, 4, 5]\n"
     ]
    }
   ],
   "source": [
    "# Membership Operator\n",
    "# in , not in\n",
    "\n",
    "array_1=[1,2,3,4,5]\n",
    "a=int(input(\"Enter number:\"))\n",
    "if a in array_1:\n",
    "    print(f\"{a} is present in {array_1}\")\n",
    "elif a not in array_1:\n",
    "    print(f\"{a} is not present in {array_1}\")"
   ]
  },
  {
   "cell_type": "code",
   "execution_count": 20,
   "metadata": {},
   "outputs": [
    {
     "name": "stdout",
     "output_type": "stream",
     "text": [
      "[1] [1] [1]\n",
      "val1 is val2 : True\n",
      "val1 is not val3 : True\n",
      "2269882028544 2269882028544 2269882028480\n"
     ]
    }
   ],
   "source": [
    "# identity operator\n",
    "# is is not\n",
    "\n",
    "val1 = [1]\n",
    "val2 = val1\n",
    "val3 = val1.copy()\n",
    "print(val1,val2,val3)\n",
    "print(\"val1 is val2 :\",val1 is val2)\n",
    "print(\"val1 is not val3 :\",val1 is not val3)\n",
    "print(id(val1),id(val2),id(val3))"
   ]
  },
  {
   "cell_type": "code",
   "execution_count": 1,
   "metadata": {},
   "outputs": [
    {
     "name": "stdout",
     "output_type": "stream",
     "text": [
      "2\n",
      "2\n",
      "0\n",
      "0b101\n",
      "4\n"
     ]
    }
   ],
   "source": [
    "# Bitwise Operator\n",
    "# &\n",
    "print(2 & 2)\n",
    "\n",
    "# |\n",
    "print(2 | 2)\n",
    "\n",
    "# ^\n",
    "print(2 ^ 2)\n",
    "\n",
    "# ~\n",
    "print(bin(5))\n",
    "print(~(-5))"
   ]
  },
  {
   "cell_type": "code",
   "execution_count": null,
   "metadata": {},
   "outputs": [],
   "source": []
  }
 ],
 "metadata": {
  "kernelspec": {
   "display_name": "venv",
   "language": "python",
   "name": "python3"
  },
  "language_info": {
   "codemirror_mode": {
    "name": "ipython",
    "version": 3
   },
   "file_extension": ".py",
   "mimetype": "text/x-python",
   "name": "python",
   "nbconvert_exporter": "python",
   "pygments_lexer": "ipython3",
   "version": "3.12.0"
  }
 },
 "nbformat": 4,
 "nbformat_minor": 2
}
