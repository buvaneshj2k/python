{
 "cells": [
  {
   "cell_type": "markdown",
   "metadata": {},
   "source": [
    "#### math modules\n",
    " 'acos',\n",
    " 'acosh',\n",
    " 'asin',\n",
    " 'asinh',\n",
    " 'atan',\n",
    " 'atan2',\n",
    " 'atanh',\n",
    " 'cbrt',\n",
    " 'ceil',\n",
    " 'comb',\n",
    " 'copysign',\n",
    " 'cos',\n",
    " 'cosh',\n",
    " 'degrees',\n",
    " 'dist',\n",
    " 'e',\n",
    " 'erf',\n",
    " 'erfc',\n",
    " 'exp',\n",
    " 'exp2',\n",
    " 'expm1',\n",
    " 'fabs',\n",
    " 'factorial',\n",
    " 'floor',\n",
    " 'fmod',\n",
    " 'frexp',\n",
    " 'fsum',\n",
    " 'gamma',\n",
    " 'gcd',\n",
    " 'hypot',\n",
    " 'inf',\n",
    " 'isclose',\n",
    " 'isfinite',\n",
    " 'isinf',\n",
    " 'isnan',\n",
    " 'isqrt',\n",
    " 'lcm',\n",
    " 'ldexp',\n",
    " 'lgamma',\n",
    " 'log',\n",
    " 'log10',\n",
    " 'log1p',\n",
    " 'log2',\n",
    " 'modf',\n",
    " 'nan',\n",
    " 'nextafter',\n",
    " 'perm',\n",
    " 'pi',\n",
    " 'pow',\n",
    " 'prod',\n",
    " 'radians',\n",
    " 'remainder',\n",
    " 'sin',\n",
    " 'sinh',\n",
    " 'sqrt',\n",
    " 'sumprod',\n",
    " 'tan',\n",
    " 'tanh',\n",
    " 'tau',\n",
    " 'trunc',\n",
    " 'ulp'"
   ]
  },
  {
   "cell_type": "code",
   "execution_count": null,
   "metadata": {},
   "outputs": [],
   "source": [
    "import math\n",
    "dir(math)"
   ]
  },
  {
   "cell_type": "code",
   "execution_count": 5,
   "metadata": {},
   "outputs": [
    {
     "data": {
      "text/plain": [
       "3.141592653589793"
      ]
     },
     "execution_count": 5,
     "metadata": {},
     "output_type": "execute_result"
    }
   ],
   "source": [
    "math.gcd(6,2,4)"
   ]
  },
  {
   "cell_type": "code",
   "execution_count": 52,
   "metadata": {},
   "outputs": [],
   "source": [
    "lcm=math.lcm(6,2,4)"
   ]
  },
  {
   "cell_type": "code",
   "execution_count": 7,
   "metadata": {},
   "outputs": [
    {
     "data": {
      "text/plain": [
       "5.141592653589793"
      ]
     },
     "execution_count": 7,
     "metadata": {},
     "output_type": "execute_result"
    }
   ],
   "source": [
    "math.pi+2"
   ]
  },
  {
   "cell_type": "code",
   "execution_count": 8,
   "metadata": {},
   "outputs": [
    {
     "data": {
      "text/plain": [
       "32.0"
      ]
     },
     "execution_count": 8,
     "metadata": {},
     "output_type": "execute_result"
    }
   ],
   "source": [
    "math.pow(2,5)"
   ]
  },
  {
   "cell_type": "code",
   "execution_count": 9,
   "metadata": {},
   "outputs": [
    {
     "data": {
      "text/plain": [
       "9.0"
      ]
     },
     "execution_count": 9,
     "metadata": {},
     "output_type": "execute_result"
    }
   ],
   "source": [
    "math.sqrt(81)"
   ]
  },
  {
   "cell_type": "markdown",
   "metadata": {},
   "source": [
    "#### Collection Module\n",
    "\n",
    "['ChainMap',\n",
    " 'Counter',\n",
    " 'OrderedDict',\n",
    " 'UserDict',\n",
    " 'UserList',\n",
    " 'UserString',\n",
    " '_Link',\n",
    " '_OrderedDictItemsView',\n",
    " '_OrderedDictKeysView',\n",
    " '_OrderedDictValuesView',\n",
    " '__all__',\n",
    " '__builtins__',\n",
    " '__cached__',\n",
    " '__doc__',\n",
    " '__file__',\n",
    " '__loader__',\n",
    " '__name__',\n",
    " '__package__',\n",
    " '__path__',\n",
    " '__spec__',\n",
    " '_chain',\n",
    " '_collections_abc',\n",
    " '_count_elements',\n",
    " '_deque_iterator',\n",
    " '_eq',\n",
    " '_iskeyword',\n",
    " '_itemgetter',\n",
    " '_proxy',\n",
    " '_recursive_repr',\n",
    " '_repeat',\n",
    " '_starmap',\n",
    " '_sys',\n",
    " '_tuplegetter',\n",
    " 'abc',\n",
    " 'defaultdict',\n",
    " 'deque',\n",
    " 'namedtuple']"
   ]
  },
  {
   "cell_type": "code",
   "execution_count": null,
   "metadata": {},
   "outputs": [],
   "source": [
    "import collections\n",
    "dir(collections)"
   ]
  },
  {
   "cell_type": "code",
   "execution_count": 24,
   "metadata": {},
   "outputs": [
    {
     "data": {
      "text/plain": [
       "Counter({'a': 4, 'g': 4, 'h': 4, 'd': 3, 's': 3, 'j': 2, 'v': 1})"
      ]
     },
     "execution_count": 24,
     "metadata": {},
     "output_type": "execute_result"
    }
   ],
   "source": [
    "a=collections.Counter(\"agvhgdsgshgaaashdjhdj\")\n",
    "a\n",
    "# sorted(a)\n",
    "# a.most_common(3)"
   ]
  },
  {
   "cell_type": "code",
   "execution_count": 21,
   "metadata": {},
   "outputs": [
    {
     "name": "stdout",
     "output_type": "stream",
     "text": [
      "Before Deleting\n",
      "a 1\n",
      "b 2\n",
      "c 3\n",
      "d 4\n",
      "\n",
      "After re-inserting\n",
      "b 2\n",
      "c 3\n",
      "d 4\n",
      "a 1\n"
     ]
    }
   ],
   "source": [
    "od = collections.OrderedDict() \n",
    "od['a'] = 1\n",
    "od['b'] = 2\n",
    "od['c'] = 3\n",
    "od['d'] = 4\n",
    "\t\n",
    "print('Before Deleting') \n",
    "for i in od: \n",
    "\tprint(i, od[i])\n",
    "od.pop('a')\n",
    "od['a'] = 1\n",
    "print('\\nAfter re-inserting') \n",
    "for i in od: \n",
    "\tprint(i, od[i])\n"
   ]
  },
  {
   "cell_type": "code",
   "execution_count": 26,
   "metadata": {},
   "outputs": [
    {
     "data": {
      "text/plain": [
       "ValuesView(ChainMap({'a': 1, 'b': 2}, {'c': 2, 'd': 4}))"
      ]
     },
     "execution_count": 26,
     "metadata": {},
     "output_type": "execute_result"
    }
   ],
   "source": [
    "v1={'a':1,'b':2}\n",
    "v2={'c':2,'d':4}\n",
    "v=collections.ChainMap(v1,v2)\n",
    "v.values()"
   ]
  },
  {
   "cell_type": "markdown",
   "metadata": {},
   "source": [
    "#### DateTime module\n",
    "['MAXYEAR',\n",
    " 'MINYEAR',\n",
    " 'UTC',\n",
    " 'date',\n",
    " 'datetime',\n",
    " 'datetime_CAPI',\n",
    " 'time',\n",
    " 'timedelta',\n",
    " 'timezone',\n",
    " 'tzinfo']"
   ]
  },
  {
   "cell_type": "code",
   "execution_count": 17,
   "metadata": {},
   "outputs": [],
   "source": [
    "import datetime"
   ]
  },
  {
   "cell_type": "code",
   "execution_count": 31,
   "metadata": {},
   "outputs": [
    {
     "name": "stdout",
     "output_type": "stream",
     "text": [
      "2024-03-22 14:28:49.483476\n"
     ]
    }
   ],
   "source": [
    "current_time=datetime.datetime.now()\n",
    "print(current_time)"
   ]
  },
  {
   "cell_type": "code",
   "execution_count": 33,
   "metadata": {},
   "outputs": [
    {
     "name": "stdout",
     "output_type": "stream",
     "text": [
      "2024-03-22\n"
     ]
    }
   ],
   "source": [
    "today=datetime.date.today()\n",
    "print(today)"
   ]
  },
  {
   "cell_type": "code",
   "execution_count": 39,
   "metadata": {},
   "outputs": [
    {
     "name": "stdout",
     "output_type": "stream",
     "text": [
      "18:00:00\n"
     ]
    }
   ],
   "source": [
    "time=datetime.time(18,00,00,00)\n",
    "print(time)"
   ]
  },
  {
   "cell_type": "markdown",
   "metadata": {},
   "source": [
    "#### OS module\n",
    "\n",
    "['DirEntry',\n",
    " 'EX_OK',\n",
    " 'F_OK',\n",
    " 'GenericAlias',\n",
    " 'Mapping',\n",
    " 'MutableMapping',\n",
    " 'O_APPEND',\n",
    " 'O_BINARY',\n",
    " 'O_CREAT',\n",
    " 'O_EXCL',\n",
    " 'O_NOINHERIT',\n",
    " 'O_RANDOM',\n",
    " 'O_RDONLY',\n",
    " 'O_RDWR',\n",
    " 'O_SEQUENTIAL',\n",
    " 'O_SHORT_LIVED',\n",
    " 'O_TEMPORARY',\n",
    " 'O_TEXT',\n",
    " 'O_TRUNC',\n",
    " 'O_WRONLY',\n",
    " 'P_DETACH',\n",
    " 'P_NOWAIT',\n",
    " 'P_NOWAITO',\n",
    " 'P_OVERLAY',\n",
    " 'P_WAIT',\n",
    " 'PathLike',\n",
    " 'R_OK',\n",
    " 'SEEK_CUR',\n",
    " 'SEEK_END',\n",
    " 'SEEK_SET',\n",
    " 'TMP_MAX',\n",
    " 'W_OK',\n",
    " 'X_OK',\n",
    " '_AddedDllDirectory',\n",
    " '_Environ',\n",
    " '__all__',\n",
    " '__builtins__',\n",
    " '__doc__',\n",
    " '__file__',\n",
    " '__loader__',\n",
    " '__name__',\n",
    " '__package__',\n",
    " '__spec__',\n",
    " '_check_methods',\n",
    " '_execvpe',\n",
    " '_exists',\n",
    " '_exit',\n",
    " '_fspath',\n",
    " '_get_exports_list',\n",
    " '_wrap_close',\n",
    " 'abc',\n",
    " 'abort',\n",
    " 'access',\n",
    " 'add_dll_directory',\n",
    " 'altsep',\n",
    " 'chdir',\n",
    " 'chmod',\n",
    " 'close',\n",
    " 'closerange',\n",
    " 'cpu_count',\n",
    " 'curdir',\n",
    " 'defpath',\n",
    " 'device_encoding',\n",
    " 'devnull',\n",
    " 'dup',\n",
    " 'dup2',\n",
    " 'environ',\n",
    " 'error',\n",
    " 'execl',\n",
    " 'execle',\n",
    " 'execlp',\n",
    " 'execlpe',\n",
    " 'execv',\n",
    " 'execve',\n",
    " 'execvp',\n",
    " 'execvpe',\n",
    " 'extsep',\n",
    " 'fdopen',\n",
    " 'fsdecode',\n",
    " 'fsencode',\n",
    " 'fspath',\n",
    " 'fstat',\n",
    " 'fsync',\n",
    " 'ftruncate',\n",
    " 'get_blocking',\n",
    " 'get_exec_path',\n",
    " 'get_handle_inheritable',\n",
    " 'get_inheritable',\n",
    " 'get_terminal_size',\n",
    " 'getcwd',\n",
    " 'getcwdb',\n",
    " 'getenv',\n",
    " 'getlogin',\n",
    " 'getpid',\n",
    " 'getppid',\n",
    " 'isatty',\n",
    " 'kill',\n",
    " 'linesep',\n",
    " 'link',\n",
    " 'listdir',\n",
    " 'listdrives',\n",
    " 'listmounts',\n",
    " 'listvolumes',\n",
    " 'lseek',\n",
    " 'lstat',\n",
    " 'makedirs',\n",
    " 'mkdir',\n",
    " 'name',\n",
    " 'open',\n",
    " 'pardir',\n",
    " 'path',\n",
    " 'pathsep',\n",
    " 'pipe',\n",
    " 'popen',\n",
    " 'putenv',\n",
    " 'read',\n",
    " 'readlink',\n",
    " 'remove',\n",
    " 'removedirs',\n",
    " 'rename',\n",
    " 'renames',\n",
    " 'replace',\n",
    " 'rmdir',\n",
    " 'scandir',\n",
    " 'sep',\n",
    " 'set_blocking',\n",
    " 'set_handle_inheritable',\n",
    " 'set_inheritable',\n",
    " 'spawnl',\n",
    " 'spawnle',\n",
    " 'spawnv',\n",
    " 'spawnve',\n",
    " 'st',\n",
    " 'startfile',\n",
    " 'stat',\n",
    " 'stat_result',\n",
    " 'statvfs_result',\n",
    " 'strerror',\n",
    " 'supports_bytes_environ',\n",
    " 'supports_dir_fd',\n",
    " 'supports_effective_ids',\n",
    " 'supports_fd',\n",
    " 'supports_follow_symlinks',\n",
    " 'symlink',\n",
    " 'sys',\n",
    " 'system',\n",
    " 'terminal_size',\n",
    " 'times',\n",
    " 'times_result',\n",
    " 'truncate',\n",
    " 'umask',\n",
    " 'uname_result',\n",
    " 'unlink',\n",
    " 'unsetenv',\n",
    " 'urandom',\n",
    " 'utime',\n",
    " 'waitpid',\n",
    " 'waitstatus_to_exitcode',\n",
    " 'walk',\n",
    " 'write']"
   ]
  },
  {
   "cell_type": "code",
   "execution_count": 42,
   "metadata": {},
   "outputs": [],
   "source": [
    "import os"
   ]
  },
  {
   "cell_type": "code",
   "execution_count": 55,
   "metadata": {},
   "outputs": [
    {
     "data": {
      "text/plain": [
       "OSError"
      ]
     },
     "execution_count": 55,
     "metadata": {},
     "output_type": "execute_result"
    }
   ],
   "source": [
    "os.error"
   ]
  },
  {
   "cell_type": "code",
   "execution_count": 60,
   "metadata": {},
   "outputs": [],
   "source": [
    "os.mkdir('buvi')"
   ]
  },
  {
   "cell_type": "code",
   "execution_count": 61,
   "metadata": {},
   "outputs": [],
   "source": [
    "os.removedirs('buvi')"
   ]
  },
  {
   "cell_type": "code",
   "execution_count": 62,
   "metadata": {},
   "outputs": [
    {
     "data": {
      "text/plain": [
       "'nt'"
      ]
     },
     "execution_count": 62,
     "metadata": {},
     "output_type": "execute_result"
    }
   ],
   "source": [
    "os.name"
   ]
  },
  {
   "cell_type": "markdown",
   "metadata": {},
   "source": [
    "#### Sys module\n",
    "'activate_stack_trampoline',\n",
    " 'addaudithook',\n",
    " 'api_version',\n",
    " 'argv',\n",
    " 'audit',\n",
    " 'base_exec_prefix',\n",
    " 'base_prefix',\n",
    " 'breakpointhook',\n",
    " 'builtin_module_names',\n",
    " 'byteorder',\n",
    " 'call_tracing',\n",
    " 'copyright',\n",
    " 'deactivate_stack_trampoline',\n",
    " 'displayhook',\n",
    " 'dllhandle',\n",
    " 'dont_write_bytecode',\n",
    " 'exc_info',\n",
    " 'excepthook',\n",
    " 'exception',\n",
    " 'exec_prefix',\n",
    " 'executable',\n",
    " 'exit',\n",
    " 'flags',\n",
    " 'float_info',\n",
    " 'float_repr_style',\n",
    " 'get_asyncgen_hooks',\n",
    " 'get_coroutine_origin_tracking_depth',\n",
    " 'get_int_max_str_digits',\n",
    " 'getallocatedblocks',\n",
    " 'getdefaultencoding',\n",
    " 'getfilesystemencodeerrors',\n",
    " 'getfilesystemencoding',\n",
    " 'getprofile',\n",
    " 'getrecursionlimit',\n",
    " 'getrefcount',\n",
    " 'getsizeof',\n",
    " 'getswitchinterval',\n",
    " 'gettrace',\n",
    " 'getunicodeinternedsize',\n",
    " 'getwindowsversion',\n",
    " 'hash_info',\n",
    " 'hexversion',\n",
    " 'implementation',\n",
    " 'int_info',\n",
    " 'intern',\n",
    " 'is_finalizing',\n",
    " 'is_stack_trampoline_active',\n",
    " 'last_traceback',\n",
    " 'last_type',\n",
    " 'last_value',\n",
    " 'maxsize',\n",
    " 'maxunicode',\n",
    " 'meta_path',\n",
    " 'modules',\n",
    " 'monitoring',\n",
    " 'orig_argv',\n",
    " 'path',\n",
    " 'path_hooks',\n",
    " 'path_importer_cache',\n",
    " 'platform',\n",
    " 'platlibdir',\n",
    " 'prefix',\n",
    " 'ps1',\n",
    " 'ps2',\n",
    " 'ps3',\n",
    " 'pycache_prefix',\n",
    " 'set_asyncgen_hooks',\n",
    " 'set_coroutine_origin_tracking_depth',\n",
    " 'set_int_max_str_digits',\n",
    " 'setprofile',\n",
    " 'setrecursionlimit',\n",
    " 'setswitchinterval',\n",
    " 'settrace',\n",
    " 'stderr',\n",
    " 'stdin',\n",
    " 'stdlib_module_names',\n",
    " 'stdout',\n",
    " 'thread_info',\n",
    " 'unraisablehook',\n",
    " 'version',\n",
    " 'version_info',\n",
    " 'warnoptions',\n",
    " 'winver'"
   ]
  },
  {
   "cell_type": "code",
   "execution_count": 63,
   "metadata": {},
   "outputs": [],
   "source": [
    "import sys"
   ]
  },
  {
   "cell_type": "code",
   "execution_count": 65,
   "metadata": {},
   "outputs": [
    {
     "data": {
      "text/plain": [
       "1013"
      ]
     },
     "execution_count": 65,
     "metadata": {},
     "output_type": "execute_result"
    }
   ],
   "source": [
    "sys.api_version"
   ]
  },
  {
   "cell_type": "code",
   "execution_count": 66,
   "metadata": {},
   "outputs": [
    {
     "data": {
      "text/plain": [
       "['c:\\\\Users\\\\buvanesh.j\\\\Desktop\\\\python\\\\Day_5',\n",
       " 'C:\\\\Users\\\\buvanesh.j\\\\AppData\\\\Local\\\\Programs\\\\Python\\\\Python312\\\\python312.zip',\n",
       " 'C:\\\\Users\\\\buvanesh.j\\\\AppData\\\\Local\\\\Programs\\\\Python\\\\Python312\\\\DLLs',\n",
       " 'C:\\\\Users\\\\buvanesh.j\\\\AppData\\\\Local\\\\Programs\\\\Python\\\\Python312\\\\Lib',\n",
       " 'C:\\\\Users\\\\buvanesh.j\\\\AppData\\\\Local\\\\Programs\\\\Python\\\\Python312',\n",
       " 'c:\\\\Users\\\\buvanesh.j\\\\Desktop\\\\python\\\\venv',\n",
       " '',\n",
       " 'c:\\\\Users\\\\buvanesh.j\\\\Desktop\\\\python\\\\venv\\\\Lib\\\\site-packages',\n",
       " 'c:\\\\Users\\\\buvanesh.j\\\\Desktop\\\\python\\\\venv\\\\Lib\\\\site-packages\\\\win32',\n",
       " 'c:\\\\Users\\\\buvanesh.j\\\\Desktop\\\\python\\\\venv\\\\Lib\\\\site-packages\\\\win32\\\\lib',\n",
       " 'c:\\\\Users\\\\buvanesh.j\\\\Desktop\\\\python\\\\venv\\\\Lib\\\\site-packages\\\\Pythonwin']"
      ]
     },
     "execution_count": 66,
     "metadata": {},
     "output_type": "execute_result"
    }
   ],
   "source": [
    "sys.path"
   ]
  },
  {
   "cell_type": "code",
   "execution_count": 67,
   "metadata": {},
   "outputs": [
    {
     "data": {
      "text/plain": [
       "[_frozen_importlib.BuiltinImporter,\n",
       " _frozen_importlib.FrozenImporter,\n",
       " _frozen_importlib_external.PathFinder,\n",
       " <six._SixMetaPathImporter at 0x1ac3b0fd9a0>]"
      ]
     },
     "execution_count": 67,
     "metadata": {},
     "output_type": "execute_result"
    }
   ],
   "source": [
    "sys.meta_path"
   ]
  },
  {
   "cell_type": "markdown",
   "metadata": {},
   "source": [
    "#### Time module\n",
    "\n",
    "'altzone',\n",
    " 'asctime',\n",
    " 'ctime',\n",
    " 'daylight',\n",
    " 'get_clock_info',\n",
    " 'gmtime',\n",
    " 'localtime',\n",
    " 'mktime',\n",
    " 'monotonic',\n",
    " 'monotonic_ns',\n",
    " 'perf_counter',\n",
    " 'perf_counter_ns',\n",
    " 'process_time',\n",
    " 'process_time_ns',\n",
    " 'sleep',\n",
    " 'strftime',\n",
    " 'strptime',\n",
    " 'struct_time',\n",
    " 'thread_time',\n",
    " 'thread_time_ns',\n",
    " 'time',\n",
    " 'time_ns',\n",
    " 'timezone',\n",
    " 'tzname'"
   ]
  },
  {
   "cell_type": "code",
   "execution_count": 69,
   "metadata": {},
   "outputs": [],
   "source": [
    "import time"
   ]
  },
  {
   "cell_type": "code",
   "execution_count": 74,
   "metadata": {},
   "outputs": [
    {
     "name": "stdout",
     "output_type": "stream",
     "text": [
      "Fri Mar 22 15:16:27 2024\n"
     ]
    }
   ],
   "source": [
    "a=time.ctime()\n",
    "print(a)"
   ]
  },
  {
   "cell_type": "code",
   "execution_count": 75,
   "metadata": {},
   "outputs": [
    {
     "name": "stdout",
     "output_type": "stream",
     "text": [
      "Fri Mar 22 15:16:27 2024\n"
     ]
    }
   ],
   "source": [
    "time.sleep(3)\n",
    "print(a)"
   ]
  },
  {
   "cell_type": "code",
   "execution_count": 79,
   "metadata": {},
   "outputs": [
    {
     "data": {
      "text/plain": [
       "time.struct_time(tm_year=2024, tm_mon=3, tm_mday=22, tm_hour=15, tm_min=24, tm_sec=27, tm_wday=4, tm_yday=82, tm_isdst=0)"
      ]
     },
     "execution_count": 79,
     "metadata": {},
     "output_type": "execute_result"
    }
   ],
   "source": [
    "time.localtime()"
   ]
  }
 ],
 "metadata": {
  "kernelspec": {
   "display_name": "venv",
   "language": "python",
   "name": "python3"
  },
  "language_info": {
   "codemirror_mode": {
    "name": "ipython",
    "version": 3
   },
   "file_extension": ".py",
   "mimetype": "text/x-python",
   "name": "python",
   "nbconvert_exporter": "python",
   "pygments_lexer": "ipython3",
   "version": "3.12.0"
  }
 },
 "nbformat": 4,
 "nbformat_minor": 2
}
