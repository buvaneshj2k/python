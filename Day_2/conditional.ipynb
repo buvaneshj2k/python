{
 "cells": [
  {
   "cell_type": "code",
   "execution_count": 1,
   "metadata": {},
   "outputs": [
    {
     "name": "stdout",
     "output_type": "stream",
     "text": [
      "You are eligible to vote.\n"
     ]
    }
   ],
   "source": [
    "age=23\n",
    "if age>=18:\n",
    "    print(\"You are eligible to vote.\")\n",
    "else:\n",
    "    print(\"You are not eligible to vote.\")"
   ]
  },
  {
   "cell_type": "code",
   "execution_count": 5,
   "metadata": {},
   "outputs": [
    {
     "name": "stdout",
     "output_type": "stream",
     "text": [
      "Your grade is B\n"
     ]
    }
   ],
   "source": [
    "mark=80\n",
    "if mark>=90:\n",
    "    print(\"Your grade is A\")\n",
    "elif mark >=70:\n",
    "    print(\"Your grade is B\")\n",
    "elif mark >=50:\n",
    "    print(\"Your grade is C\")\n",
    "else:\n",
    "    print(\"You are Failed\")"
   ]
  },
  {
   "cell_type": "code",
   "execution_count": 10,
   "metadata": {},
   "outputs": [
    {
     "name": "stdout",
     "output_type": "stream",
     "text": [
      "You are Passed\n",
      "Your grade is B\n"
     ]
    }
   ],
   "source": [
    "mark=int(input())\n",
    "if mark >=50:\n",
    "    print(\"You are Passed\")\n",
    "    if mark>=90:\n",
    "        print(\"Your grade is A\")\n",
    "    elif mark >=70:\n",
    "        print(\"Your grade is B\")\n",
    "    else:\n",
    "        print(\"Your grade is C\")\n",
    "else:\n",
    "    print(\"You are Failed\")"
   ]
  },
  {
   "cell_type": "code",
   "execution_count": 9,
   "metadata": {},
   "outputs": [
    {
     "name": "stdout",
     "output_type": "stream",
     "text": [
      "You need to pay 70 for 200page note.\n"
     ]
    }
   ],
   "source": [
    "note=int(input(\"Enter a type of note(1=100page,2=200page,3=50page)\"))\n",
    "if note==1:\n",
    "    print(\"You need to pay 50 for 100page note.\")\n",
    "elif note==2:\n",
    "    print(\"You need to pay 70 for 200page note.\")\n",
    "elif note==3:\n",
    "    print(\"You need to pay 30 for 50page note.\")\n",
    "else:\n",
    "    print(\"Enter a valid type.\")"
   ]
  },
  {
   "cell_type": "code",
   "execution_count": null,
   "metadata": {},
   "outputs": [],
   "source": []
  }
 ],
 "metadata": {
  "kernelspec": {
   "display_name": "venv",
   "language": "python",
   "name": "python3"
  },
  "language_info": {
   "codemirror_mode": {
    "name": "ipython",
    "version": 3
   },
   "file_extension": ".py",
   "mimetype": "text/x-python",
   "name": "python",
   "nbconvert_exporter": "python",
   "pygments_lexer": "ipython3",
   "version": "3.12.0"
  }
 },
 "nbformat": 4,
 "nbformat_minor": 2
}
