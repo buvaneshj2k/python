{
 "cells": [
  {
   "cell_type": "code",
   "execution_count": 8,
   "metadata": {},
   "outputs": [
    {
     "name": "stdout",
     "output_type": "stream",
     "text": [
      "My name is : Buvanesh\n",
      "Buvanesh is 23 years old\n",
      "My mail id is buvaneshj2k@gmail.com.\n",
      "My salary is 350000\n",
      "\tAbout Education\n",
      "College \t: Amrita College\n",
      "Percentage\t: 76.5\n"
     ]
    }
   ],
   "source": [
    "name='Buvanesh'\n",
    "age=23\n",
    "mail=\"buvaneshj2k@gmail.com\"\n",
    "place=\"Perungalthur\"\n",
    "college=\"Amrita College\"\n",
    "percentage=76.5\n",
    "fav_color=\"orange\"\n",
    "b_group=\"O+\"\n",
    "Gender=\"Male\"\n",
    "Currently_working=True\n",
    "salary=3_50_000\n",
    "print(\"My name is :\",name)\n",
    "print(f\"{name} is {age} years old\")\n",
    "print(\"My mail id is {}.\".format(mail))\n",
    "print(f\"My salary is {salary}\")\n",
    "print(f\"\\tAbout Education\\nCollege \\t: {college}\\nPercentage\\t: {percentage}\")"
   ]
  },
  {
   "cell_type": "code",
   "execution_count": 12,
   "metadata": {},
   "outputs": [
    {
     "name": "stdout",
     "output_type": "stream",
     "text": [
      "Myself I am Buvanesh ,iam 23 years old.\n",
      "I have completed my degree in Amrita College and scored 76.5 %.\n",
      "My mail id is buvaneshj2k@gmail.com. \n",
      "My Fav colour is orange.\n",
      "My Blood group is O+.\n",
      "Now I am currently staying in Perungalthur\n"
     ]
    }
   ],
   "source": [
    "print(f\"Myself I am {name} ,iam {age} years old.\\nI have completed my degree in {college} and scored {percentage} %.\")\n",
    "print(f\"My mail id is {mail}. \\nMy Fav colour is {fav_color}.\")\n",
    "print(f\"My Blood group is {b_group}.\")\n",
    "print(f\"Now I am currently staying in {place}.\")"
   ]
  },
  {
   "cell_type": "code",
   "execution_count": 16,
   "metadata": {},
   "outputs": [
    {
     "name": "stdout",
     "output_type": "stream",
     "text": [
      "Buvanesh\tBuvanesh\tBuvanesh\n",
      "buvanesh\n"
     ]
    }
   ],
   "source": [
    "my_name=name\n",
    "myName='Buvanesh'\n",
    "my_Name='buvanesh'\n",
    "MyName='Buvanesh'\n",
    "print(f\"{my_name}\\t{myName}\\t{MyName}\\n{my_Name}\")"
   ]
  },
  {
   "cell_type": "code",
   "execution_count": 23,
   "metadata": {},
   "outputs": [
    {
     "name": "stdout",
     "output_type": "stream",
     "text": [
      "False\n",
      "None\n",
      "True\n",
      "and\n",
      "as\n",
      "assert\n",
      "async\n",
      "await\n",
      "break\n",
      "class\n",
      "continue\n",
      "def\n",
      "del\n",
      "elif\n",
      "else\n",
      "except\n",
      "finally\n",
      "for\n",
      "from\n",
      "global\n",
      "if\n",
      "import\n",
      "in\n",
      "is\n",
      "lambda\n",
      "nonlocal\n",
      "not\n",
      "or\n",
      "pass\n",
      "raise\n",
      "return\n",
      "try\n",
      "while\n",
      "with\n",
      "yield\n"
     ]
    }
   ],
   "source": [
    "import keyword\n",
    "a=keyword.kwlist\n",
    "for i in a:\n",
    "    print(i)"
   ]
  },
  {
   "cell_type": "code",
   "execution_count": 27,
   "metadata": {},
   "outputs": [
    {
     "name": "stdout",
     "output_type": "stream",
     "text": [
      "\n",
      "Welcome to Python 3.12's help utility!\n",
      "\n",
      "If this is your first time using Python, you should definitely check out\n",
      "the tutorial on the internet at https://docs.python.org/3.12/tutorial/.\n",
      "\n",
      "Enter the name of any module, keyword, or topic to get help on writing\n",
      "Python programs and using Python modules.  To quit this help utility and\n",
      "return to the interpreter, just type \"quit\".\n",
      "\n",
      "To get a list of available modules, keywords, symbols, or topics, type\n",
      "\"modules\", \"keywords\", \"symbols\", or \"topics\".  Each module also comes\n",
      "with a one-line summary of what it does; to list the modules whose name\n",
      "or summary contain a given string such as \"spam\", type \"modules spam\".\n",
      "\n",
      "The \"with\" statement\n",
      "********************\n",
      "\n",
      "The \"with\" statement is used to wrap the execution of a block with\n",
      "methods defined by a context manager (see section With Statement\n",
      "Context Managers). This allows common \"try\"…\"except\"…\"finally\" usage\n",
      "patterns to be encapsulated for convenient reuse.\n",
      "\n",
      "   with_stmt          ::= \"with\" ( \"(\" with_stmt_contents \",\"? \")\" | with_stmt_contents ) \":\" suite\n",
      "   with_stmt_contents ::= with_item (\",\" with_item)*\n",
      "   with_item          ::= expression [\"as\" target]\n",
      "\n",
      "The execution of the \"with\" statement with one “item” proceeds as\n",
      "follows:\n",
      "\n",
      "1. The context expression (the expression given in the \"with_item\") is\n",
      "   evaluated to obtain a context manager.\n",
      "\n",
      "2. The context manager’s \"__enter__()\" is loaded for later use.\n",
      "\n",
      "3. The context manager’s \"__exit__()\" is loaded for later use.\n",
      "\n",
      "4. The context manager’s \"__enter__()\" method is invoked.\n",
      "\n",
      "5. If a target was included in the \"with\" statement, the return value\n",
      "   from \"__enter__()\" is assigned to it.\n",
      "\n",
      "   Note:\n",
      "\n",
      "     The \"with\" statement guarantees that if the \"__enter__()\" method\n",
      "     returns without an error, then \"__exit__()\" will always be\n",
      "     called. Thus, if an error occurs during the assignment to the\n",
      "     target list, it will be treated the same as an error occurring\n",
      "     within the suite would be. See step 7 below.\n",
      "\n",
      "6. The suite is executed.\n",
      "\n",
      "7. The context manager’s \"__exit__()\" method is invoked.  If an\n",
      "   exception caused the suite to be exited, its type, value, and\n",
      "   traceback are passed as arguments to \"__exit__()\". Otherwise, three\n",
      "   \"None\" arguments are supplied.\n",
      "\n",
      "   If the suite was exited due to an exception, and the return value\n",
      "   from the \"__exit__()\" method was false, the exception is reraised.\n",
      "   If the return value was true, the exception is suppressed, and\n",
      "   execution continues with the statement following the \"with\"\n",
      "   statement.\n",
      "\n",
      "   If the suite was exited for any reason other than an exception, the\n",
      "   return value from \"__exit__()\" is ignored, and execution proceeds\n",
      "   at the normal location for the kind of exit that was taken.\n",
      "\n",
      "The following code:\n",
      "\n",
      "   with EXPRESSION as TARGET:\n",
      "       SUITE\n",
      "\n",
      "is semantically equivalent to:\n",
      "\n",
      "   manager = (EXPRESSION)\n",
      "   enter = type(manager).__enter__\n",
      "   exit = type(manager).__exit__\n",
      "   value = enter(manager)\n",
      "   hit_except = False\n",
      "\n",
      "   try:\n",
      "       TARGET = value\n",
      "       SUITE\n",
      "   except:\n",
      "       hit_except = True\n",
      "       if not exit(manager, *sys.exc_info()):\n",
      "           raise\n",
      "   finally:\n",
      "       if not hit_except:\n",
      "           exit(manager, None, None, None)\n",
      "\n",
      "With more than one item, the context managers are processed as if\n",
      "multiple \"with\" statements were nested:\n",
      "\n",
      "   with A() as a, B() as b:\n",
      "       SUITE\n",
      "\n",
      "is semantically equivalent to:\n",
      "\n",
      "   with A() as a:\n",
      "       with B() as b:\n",
      "           SUITE\n",
      "\n",
      "You can also write multi-item context managers in multiple lines if\n",
      "the items are surrounded by parentheses. For example:\n",
      "\n",
      "   with (\n",
      "       A() as a,\n",
      "       B() as b,\n",
      "   ):\n",
      "       SUITE\n",
      "\n",
      "Changed in version 3.1: Support for multiple context expressions.\n",
      "\n",
      "Changed in version 3.10: Support for using grouping parentheses to\n",
      "break the statement in multiple lines.\n",
      "\n",
      "See also:\n",
      "\n",
      "  **PEP 343** - The “with” statement\n",
      "     The specification, background, and examples for the Python \"with\"\n",
      "     statement.\n",
      "\n",
      "Related help topics: CONTEXTMANAGERS, EXCEPTIONS, yield\n",
      "\n"
     ]
    }
   ],
   "source": [
    "help()"
   ]
  },
  {
   "cell_type": "code",
   "execution_count": 2,
   "metadata": {},
   "outputs": [
    {
     "data": {
      "text/plain": [
       "['__doc__',\n",
       " '__loader__',\n",
       " '__name__',\n",
       " '__package__',\n",
       " '__spec__',\n",
       " 'acos',\n",
       " 'acosh',\n",
       " 'asin',\n",
       " 'asinh',\n",
       " 'atan',\n",
       " 'atan2',\n",
       " 'atanh',\n",
       " 'cbrt',\n",
       " 'ceil',\n",
       " 'comb',\n",
       " 'copysign',\n",
       " 'cos',\n",
       " 'cosh',\n",
       " 'degrees',\n",
       " 'dist',\n",
       " 'e',\n",
       " 'erf',\n",
       " 'erfc',\n",
       " 'exp',\n",
       " 'exp2',\n",
       " 'expm1',\n",
       " 'fabs',\n",
       " 'factorial',\n",
       " 'floor',\n",
       " 'fmod',\n",
       " 'frexp',\n",
       " 'fsum',\n",
       " 'gamma',\n",
       " 'gcd',\n",
       " 'hypot',\n",
       " 'inf',\n",
       " 'isclose',\n",
       " 'isfinite',\n",
       " 'isinf',\n",
       " 'isnan',\n",
       " 'isqrt',\n",
       " 'lcm',\n",
       " 'ldexp',\n",
       " 'lgamma',\n",
       " 'log',\n",
       " 'log10',\n",
       " 'log1p',\n",
       " 'log2',\n",
       " 'modf',\n",
       " 'nan',\n",
       " 'nextafter',\n",
       " 'perm',\n",
       " 'pi',\n",
       " 'pow',\n",
       " 'prod',\n",
       " 'radians',\n",
       " 'remainder',\n",
       " 'sin',\n",
       " 'sinh',\n",
       " 'sqrt',\n",
       " 'sumprod',\n",
       " 'tan',\n",
       " 'tanh',\n",
       " 'tau',\n",
       " 'trunc',\n",
       " 'ulp']"
      ]
     },
     "execution_count": 2,
     "metadata": {},
     "output_type": "execute_result"
    }
   ],
   "source": [
    "import math\n",
    "dir(math)"
   ]
  },
  {
   "cell_type": "code",
   "execution_count": 10,
   "metadata": {},
   "outputs": [
    {
     "name": "stdout",
     "output_type": "stream",
     "text": [
      "Help on built-in function comb in module math:\n",
      "\n",
      "comb(n, k, /)\n",
      "    Number of ways to choose k items from n items without repetition and without order.\n",
      "\n",
      "    Evaluates to n! / (k! * (n - k)!) when k <= n and evaluates\n",
      "    to zero when k > n.\n",
      "\n",
      "    Also called the binomial coefficient because it is equivalent\n",
      "    to the coefficient of k-th term in polynomial expansion of the\n",
      "    expression (1 + x)**n.\n",
      "\n",
      "    Raises TypeError if either of the arguments are not integers.\n",
      "    Raises ValueError if either of the arguments are negative.\n",
      "\n"
     ]
    }
   ],
   "source": [
    "help(math.comb)"
   ]
  },
  {
   "cell_type": "code",
   "execution_count": 18,
   "metadata": {},
   "outputs": [
    {
     "data": {
      "text/plain": [
       "40"
      ]
     },
     "execution_count": 18,
     "metadata": {},
     "output_type": "execute_result"
    }
   ],
   "source": [
    "math.gcd(10,20,40)"
   ]
  },
  {
   "cell_type": "code",
   "execution_count": 20,
   "metadata": {},
   "outputs": [
    {
     "data": {
      "text/plain": [
       "120"
      ]
     },
     "execution_count": 20,
     "metadata": {},
     "output_type": "execute_result"
    }
   ],
   "source": [
    "math.factorial(5)"
   ]
  },
  {
   "cell_type": "code",
   "execution_count": 11,
   "metadata": {},
   "outputs": [],
   "source": [
    "from math import *"
   ]
  },
  {
   "cell_type": "code",
   "execution_count": 12,
   "metadata": {},
   "outputs": [
    {
     "data": {
      "text/plain": [
       "['__doc__',\n",
       " '__loader__',\n",
       " '__name__',\n",
       " '__package__',\n",
       " '__spec__',\n",
       " 'acos',\n",
       " 'acosh',\n",
       " 'asin',\n",
       " 'asinh',\n",
       " 'atan',\n",
       " 'atan2',\n",
       " 'atanh',\n",
       " 'cbrt',\n",
       " 'ceil',\n",
       " 'comb',\n",
       " 'copysign',\n",
       " 'cos',\n",
       " 'cosh',\n",
       " 'degrees',\n",
       " 'dist',\n",
       " 'e',\n",
       " 'erf',\n",
       " 'erfc',\n",
       " 'exp',\n",
       " 'exp2',\n",
       " 'expm1',\n",
       " 'fabs',\n",
       " 'factorial',\n",
       " 'floor',\n",
       " 'fmod',\n",
       " 'frexp',\n",
       " 'fsum',\n",
       " 'gamma',\n",
       " 'gcd',\n",
       " 'hypot',\n",
       " 'inf',\n",
       " 'isclose',\n",
       " 'isfinite',\n",
       " 'isinf',\n",
       " 'isnan',\n",
       " 'isqrt',\n",
       " 'lcm',\n",
       " 'ldexp',\n",
       " 'lgamma',\n",
       " 'log',\n",
       " 'log10',\n",
       " 'log1p',\n",
       " 'log2',\n",
       " 'modf',\n",
       " 'nan',\n",
       " 'nextafter',\n",
       " 'perm',\n",
       " 'pi',\n",
       " 'pow',\n",
       " 'prod',\n",
       " 'radians',\n",
       " 'remainder',\n",
       " 'sin',\n",
       " 'sinh',\n",
       " 'sqrt',\n",
       " 'sumprod',\n",
       " 'tan',\n",
       " 'tanh',\n",
       " 'tau',\n",
       " 'trunc',\n",
       " 'ulp']"
      ]
     },
     "execution_count": 12,
     "metadata": {},
     "output_type": "execute_result"
    }
   ],
   "source": [
    "dir(math)"
   ]
  },
  {
   "cell_type": "code",
   "execution_count": 20,
   "metadata": {},
   "outputs": [
    {
     "name": "stdout",
     "output_type": "stream",
     "text": [
      "Help on built-in function fsum in module math:\n",
      "\n",
      "fsum(seq, /)\n",
      "    Return an accurate floating point sum of values in the iterable seq.\n",
      "\n",
      "    Assumes IEEE-754 floating point arithmetic.\n",
      "\n"
     ]
    }
   ],
   "source": [
    "help(fsum)"
   ]
  },
  {
   "cell_type": "code",
   "execution_count": null,
   "metadata": {},
   "outputs": [],
   "source": []
  }
 ],
 "metadata": {
  "kernelspec": {
   "display_name": "venv",
   "language": "python",
   "name": "python3"
  },
  "language_info": {
   "codemirror_mode": {
    "name": "ipython",
    "version": 3
   },
   "file_extension": ".py",
   "mimetype": "text/x-python",
   "name": "python",
   "nbconvert_exporter": "python",
   "pygments_lexer": "ipython3",
   "version": "3.12.0"
  }
 },
 "nbformat": 4,
 "nbformat_minor": 2
}
