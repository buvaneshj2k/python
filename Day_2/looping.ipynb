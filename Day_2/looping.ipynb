{
 "cells": [
  {
   "cell_type": "code",
   "execution_count": 6,
   "metadata": {},
   "outputs": [
    {
     "name": "stdout",
     "output_type": "stream",
     "text": [
      "name : Buvi\n",
      "age : 23\n",
      "Gender : Male\n",
      "email : buvaneshj2k@gmail.com\n",
      "College : Amrita College\n",
      "Degree : B.E\n",
      "Course : CSE\n",
      "Yop : 2022\n",
      "Percentage : 76.5\n"
     ]
    }
   ],
   "source": [
    "bio_dict={\"name\":\"Buvi\",\"age\":23,\"Gender\":\"Male\",\"email\":\"buvaneshj2k@gmail.com\",\n",
    "          \"College\":\"Amrita College\",\"Degree\":\"B.E\",\"Course\":\"CSE\",\n",
    "          \"Yop\":\"2022\",\"Percentage\":76.5}\n",
    "for i in bio_dict:\n",
    "    print(i,\":\",bio_dict[i])"
   ]
  },
  {
   "cell_type": "code",
   "execution_count": null,
   "metadata": {},
   "outputs": [],
   "source": []
  }
 ],
 "metadata": {
  "kernelspec": {
   "display_name": "venv",
   "language": "python",
   "name": "python3"
  },
  "language_info": {
   "codemirror_mode": {
    "name": "ipython",
    "version": 3
   },
   "file_extension": ".py",
   "mimetype": "text/x-python",
   "name": "python",
   "nbconvert_exporter": "python",
   "pygments_lexer": "ipython3",
   "version": "3.12.0"
  }
 },
 "nbformat": 4,
 "nbformat_minor": 2
}
