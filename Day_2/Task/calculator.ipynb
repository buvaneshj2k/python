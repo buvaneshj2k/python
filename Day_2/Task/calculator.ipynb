{
 "cells": [
  {
   "cell_type": "code",
   "execution_count": 2,
   "metadata": {},
   "outputs": [
    {
     "name": "stdout",
     "output_type": "stream",
     "text": [
      "1.add\n",
      "2.substract\n",
      "3.Multiply\n",
      "4.Divide\n",
      "5.Percentage\n",
      "6.Exit\n",
      "The addition of 4 and 3 is 7\n",
      "1.add\n",
      "2.substract\n",
      "3.Multiply\n",
      "4.Divide\n",
      "5.Percentage\n",
      "6.Exit\n",
      "Execution completed\n"
     ]
    }
   ],
   "source": [
    "import calculator\n",
    "while (True):\n",
    "    print(\"1.add\\n2.substract\\n3.Multiply\\n4.Divide\\n5.Percentage\\n6.Exit\")\n",
    "    operation=int(input(\"Enter the operation :\"))\n",
    "    if operation == 1:\n",
    "        a=int(input(\"Enter first number:\"))\n",
    "        b=int(input(\"Enter second number:\"))\n",
    "        print(f\"The addition of {a} and {b} is {calculator.add(a,b)}\")\n",
    "    elif operation == 2:\n",
    "        a=int(input(\"Enter first number:\"))\n",
    "        b=int(input(\"Enter second number:\"))\n",
    "        print(f\"The Sustraction of {a} and {b} is {calculator.sub(a,b)}\")\n",
    "    elif operation == 3:\n",
    "        a=int(input(\"Enter first number:\"))\n",
    "        b=int(input(\"Enter second number:\"))\n",
    "        print(f\"The Multiplication of {a} and {b} is {calculator.multiply(a,b)}\")\n",
    "    elif operation == 4:\n",
    "        a=int(input(\"Enter first number:\"))\n",
    "        b=int(input(\"Enter second number:\"))\n",
    "        print(f\"The Division of {a} and {b} is {calculator.div(a,b)}\")\n",
    "    elif operation == 5:\n",
    "        a=int(input(\"Enter first number:\"))\n",
    "        b=int(input(\"Enter second number:\"))\n",
    "        print(f\"The Percentage of {a} of {b} if {calculator.percent(a,b)}\")\n",
    "    elif operation == 6:\n",
    "        print(\"Execution completed\")\n",
    "        break\n",
    "    else:\n",
    "        print(\"Enter a valid input.\")\n",
    "    "
   ]
  },
  {
   "cell_type": "code",
   "execution_count": null,
   "metadata": {},
   "outputs": [],
   "source": []
  }
 ],
 "metadata": {
  "kernelspec": {
   "display_name": "venv",
   "language": "python",
   "name": "python3"
  },
  "language_info": {
   "codemirror_mode": {
    "name": "ipython",
    "version": 3
   },
   "file_extension": ".py",
   "mimetype": "text/x-python",
   "name": "python",
   "nbconvert_exporter": "python",
   "pygments_lexer": "ipython3",
   "version": "3.12.0"
  }
 },
 "nbformat": 4,
 "nbformat_minor": 2
}
