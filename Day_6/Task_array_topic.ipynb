{
 "cells": [
  {
   "cell_type": "code",
   "execution_count": 1,
   "metadata": {},
   "outputs": [],
   "source": [
    "import array"
   ]
  },
  {
   "cell_type": "markdown",
   "metadata": {},
   "source": [
    "#### 1.Create two Floating Array"
   ]
  },
  {
   "cell_type": "code",
   "execution_count": 2,
   "metadata": {},
   "outputs": [],
   "source": [
    "float_arr1=array.array(\"f\",[])\n",
    "float_arr2=array.array(\"f\",[])"
   ]
  },
  {
   "cell_type": "markdown",
   "metadata": {},
   "source": [
    "#### 2.Add five individual element in two floating array."
   ]
  },
  {
   "cell_type": "code",
   "execution_count": 18,
   "metadata": {},
   "outputs": [],
   "source": [
    "float_arr1.append(1.8)\n",
    "float_arr1.append(2.7)\n",
    "float_arr1.append(9.8)\n",
    "float_arr1.append(2.8)\n",
    "float_arr1.append(6.8)\n",
    "\n",
    "float_arr2.append(6.8)\n",
    "float_arr2.append(0.8)\n",
    "float_arr2.append(3.8)\n",
    "float_arr2.append(5.8)\n",
    "float_arr2.append(1.9)"
   ]
  },
  {
   "cell_type": "markdown",
   "metadata": {},
   "source": [
    "#### 3.Add two list with Floating values and display the result."
   ]
  },
  {
   "cell_type": "code",
   "execution_count": 4,
   "metadata": {},
   "outputs": [
    {
     "name": "stdout",
     "output_type": "stream",
     "text": [
      "First Floating Array: array('f', [1.7999999523162842, 2.700000047683716, 9.800000190734863, 2.799999952316284, 6.800000190734863, 1.0, 1.2000000476837158, 3.5, 2.299999952316284, 4.5])\n",
      "Second Floating Array: array('f', [6.800000190734863, 0.800000011920929, 3.799999952316284, 5.800000190734863, 1.899999976158142, 5.800000190734863, 7.900000095367432, 6.699999809265137, 8.0, 3.799999952316284])\n"
     ]
    }
   ],
   "source": [
    "arr1=[1,1.2,3.5,2.3,4.5]\n",
    "float_arr1.extend(arr1)\n",
    "arr2=[5.8,7.9,6.7,8,3.8]\n",
    "float_arr2.extend(arr2)\n",
    "print(f\"First Floating Array: {float_arr1}\")\n",
    "print(f\"Second Floating Array: {float_arr2}\")"
   ]
  },
  {
   "cell_type": "markdown",
   "metadata": {},
   "source": [
    "#### 4.Find the Position of an element in the array."
   ]
  },
  {
   "cell_type": "code",
   "execution_count": 9,
   "metadata": {},
   "outputs": [
    {
     "name": "stdout",
     "output_type": "stream",
     "text": [
      "First Floating Array:\n",
      "Index 0=1.80\n",
      "First Floating Array:\n",
      "Index 1=2.70\n",
      "First Floating Array:\n",
      "Index 2=9.80\n",
      "First Floating Array:\n",
      "Index 3=2.80\n",
      "First Floating Array:\n",
      "Index 4=6.80\n",
      "First Floating Array:\n",
      "Index 5=1.00\n",
      "First Floating Array:\n",
      "Index 6=1.20\n",
      "First Floating Array:\n",
      "Index 7=3.50\n",
      "First Floating Array:\n",
      "Index 8=4.50\n",
      "------------\n",
      "Second Floating Array:\n",
      "Index 0=6.80\n",
      "Second Floating Array:\n",
      "Index 1=0.80\n",
      "Second Floating Array:\n",
      "Index 2=5.80\n",
      "Second Floating Array:\n",
      "Index 3=1.90\n",
      "Second Floating Array:\n",
      "Index 2=5.80\n",
      "Second Floating Array:\n",
      "Index 5=7.90\n",
      "Second Floating Array:\n",
      "Index 6=6.70\n",
      "Second Floating Array:\n",
      "Index 7=8.00\n",
      "Second Floating Array:\n",
      "Index 8=3.80\n"
     ]
    }
   ],
   "source": [
    "for i in float_arr1:\n",
    "    print(\"First Floating Array:\")\n",
    "    print(f\"Index {float_arr1.index(i)}={i:.2f}\")\n",
    "\n",
    "print(\"------------\")\n",
    "\n",
    "for i in float_arr2:\n",
    "    print(\"Second Floating Array:\")\n",
    "    print(f\"Index {float_arr2.index(i)}={i:.2f}\")"
   ]
  },
  {
   "cell_type": "markdown",
   "metadata": {},
   "source": [
    "#### 5.Delete a particular element in array."
   ]
  },
  {
   "cell_type": "code",
   "execution_count": 7,
   "metadata": {},
   "outputs": [
    {
     "data": {
      "text/plain": [
       "3.799999952316284"
      ]
     },
     "execution_count": 7,
     "metadata": {},
     "output_type": "execute_result"
    }
   ],
   "source": [
    "float_arr1.remove(2.299999952316284)\n",
    "float_arr2.pop(2)"
   ]
  },
  {
   "cell_type": "markdown",
   "metadata": {},
   "source": [
    "#### 6. Using Loop and len() method empty an array. "
   ]
  },
  {
   "cell_type": "code",
   "execution_count": 21,
   "metadata": {},
   "outputs": [],
   "source": [
    "for i in range(len(float_arr1)-1,-1,-1):\n",
    "    float_arr1.pop(i)"
   ]
  },
  {
   "cell_type": "code",
   "execution_count": 22,
   "metadata": {},
   "outputs": [
    {
     "name": "stdout",
     "output_type": "stream",
     "text": [
      "array('f')\n"
     ]
    }
   ],
   "source": [
    "print(float_arr1)"
   ]
  }
 ],
 "metadata": {
  "kernelspec": {
   "display_name": "venv",
   "language": "python",
   "name": "python3"
  },
  "language_info": {
   "codemirror_mode": {
    "name": "ipython",
    "version": 3
   },
   "file_extension": ".py",
   "mimetype": "text/x-python",
   "name": "python",
   "nbconvert_exporter": "python",
   "pygments_lexer": "ipython3",
   "version": "3.12.0"
  }
 },
 "nbformat": 4,
 "nbformat_minor": 2
}
