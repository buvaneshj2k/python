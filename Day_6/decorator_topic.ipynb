{
 "cells": [
  {
   "cell_type": "markdown",
   "metadata": {},
   "source": [
    "#### Assigned to a variable"
   ]
  },
  {
   "cell_type": "code",
   "execution_count": 3,
   "metadata": {},
   "outputs": [],
   "source": [
    "def welcome(name):\n",
    "    return f\"Welcome {name}!\""
   ]
  },
  {
   "cell_type": "code",
   "execution_count": 4,
   "metadata": {},
   "outputs": [
    {
     "name": "stdout",
     "output_type": "stream",
     "text": [
      "Welcome Buvi!\n"
     ]
    }
   ],
   "source": [
    "greet = welcome\n",
    "print(greet(\"Buvi\"))"
   ]
  },
  {
   "cell_type": "code",
   "execution_count": 11,
   "metadata": {},
   "outputs": [],
   "source": [
    "def fun1():\n",
    "    def fun2(name):\n",
    "        return f\"Welcome {name}!\"\n",
    "    return fun2\n"
   ]
  },
  {
   "cell_type": "code",
   "execution_count": 12,
   "metadata": {},
   "outputs": [
    {
     "data": {
      "text/plain": [
       "'Welcome Buvi!'"
      ]
     },
     "execution_count": 12,
     "metadata": {},
     "output_type": "execute_result"
    }
   ],
   "source": [
    "call_1=fun1()\n",
    "call_1(\"Buvi\")"
   ]
  },
  {
   "cell_type": "code",
   "execution_count": 18,
   "metadata": {},
   "outputs": [],
   "source": [
    "def fun1(n):\n",
    "    def fun2(n1):\n",
    "        def fun3(name):\n",
    "            return f\"Welcome {name}!\"\n",
    "        return fun3(n1)\n",
    "    return fun2(n)"
   ]
  },
  {
   "cell_type": "markdown",
   "metadata": {},
   "source": []
  },
  {
   "cell_type": "code",
   "execution_count": 20,
   "metadata": {},
   "outputs": [
    {
     "data": {
      "text/plain": [
       "'Welcome Buvi!'"
      ]
     },
     "execution_count": 20,
     "metadata": {},
     "output_type": "execute_result"
    }
   ],
   "source": [
    "call_1=fun1\n",
    "call_1(\"Buvi\")"
   ]
  },
  {
   "cell_type": "code",
   "execution_count": 27,
   "metadata": {},
   "outputs": [],
   "source": [
    "\n",
    "def wel():\n",
    "    print(\"Welcome\")"
   ]
  },
  {
   "cell_type": "code",
   "execution_count": 28,
   "metadata": {},
   "outputs": [
    {
     "name": "stdout",
     "output_type": "stream",
     "text": [
      "Hi\n",
      "Welcome\n",
      "Bye\n"
     ]
    }
   ],
   "source": [
    "def f1(fun):\n",
    "    def show():\n",
    "        print(\"Hi\")\n",
    "        fun()\n",
    "        print(\"Bye\")\n",
    "    return show\n",
    "\n",
    "call=f1(wel)\n",
    "call()"
   ]
  },
  {
   "cell_type": "code",
   "execution_count": 29,
   "metadata": {},
   "outputs": [
    {
     "name": "stdout",
     "output_type": "stream",
     "text": [
      "Hi\n",
      "Welcome\n",
      "Bye\n"
     ]
    }
   ],
   "source": [
    "@f1\n",
    "def wel():\n",
    "    print(\"Welcome\")\n",
    "\n",
    "wel()"
   ]
  },
  {
   "cell_type": "markdown",
   "metadata": {},
   "source": [
    "#### To check the values in the list is number or not"
   ]
  },
  {
   "cell_type": "code",
   "execution_count": 43,
   "metadata": {},
   "outputs": [
    {
     "name": "stdout",
     "output_type": "stream",
     "text": [
      "In the list 1 value is not number\n"
     ]
    }
   ],
   "source": [
    "def check(num):\n",
    "    def check_num(n):\n",
    "        c = []\n",
    "        for i in n:\n",
    "            if type(i)==int:\n",
    "                c+=[i]\n",
    "            else:\n",
    "                pass\n",
    "        num(c)\n",
    "    return check_num\n",
    "        \n",
    "@check\n",
    "def num(n):\n",
    "    if len(a)==len(n):\n",
    "        print (\"All values are number\")\n",
    "    else:\n",
    "        print(f\"In the list {len(a)-len(n)} value is not number\")\n",
    "\n",
    "a=[1,2,3,4,\"a\"]\n",
    "num(a)"
   ]
  },
  {
   "cell_type": "code",
   "execution_count": null,
   "metadata": {},
   "outputs": [],
   "source": []
  }
 ],
 "metadata": {
  "kernelspec": {
   "display_name": "venv",
   "language": "python",
   "name": "python3"
  },
  "language_info": {
   "codemirror_mode": {
    "name": "ipython",
    "version": 3
   },
   "file_extension": ".py",
   "mimetype": "text/x-python",
   "name": "python",
   "nbconvert_exporter": "python",
   "pygments_lexer": "ipython3",
   "version": "3.12.0"
  }
 },
 "nbformat": 4,
 "nbformat_minor": 2
}
