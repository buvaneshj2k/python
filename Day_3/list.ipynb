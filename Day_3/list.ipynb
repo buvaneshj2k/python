{
 "cells": [
  {
   "cell_type": "code",
   "execution_count": 3,
   "metadata": {},
   "outputs": [
    {
     "name": "stdout",
     "output_type": "stream",
     "text": [
      "r\n",
      "<class 'set'>\n"
     ]
    }
   ],
   "source": [
    "fruits=['apple','orange','grapes']\n",
    "print(fruits[1][1])"
   ]
  },
  {
   "cell_type": "code",
   "execution_count": 5,
   "metadata": {},
   "outputs": [
    {
     "name": "stdout",
     "output_type": "stream",
     "text": [
      "<class 'list'> <class 'set'> <class 'tuple'>\n"
     ]
    }
   ],
   "source": [
    "bike=['R15','MT','RX100','RS200','NS200','NS160','SPLENDER+','BMW','CBR','GT','KTM DUKE','APACHE']\n",
    "bike_set=set(bike)\n",
    "bike_tuple=tuple(bike)\n",
    "print(type(bike),type(bike_set),type(bike_tuple))"
   ]
  },
  {
   "cell_type": "code",
   "execution_count": 7,
   "metadata": {},
   "outputs": [
    {
     "name": "stdout",
     "output_type": "stream",
     "text": [
      "['R15', 'MT', 'RX100', 'RS200', 'NS200', 'NS160', 'SPLENDER+', 'BMW', 'CBR', 'GT', 'KTM DUKE', 'APACHE', 'Royal Enfield', 'Royal Enfield']\n"
     ]
    }
   ],
   "source": [
    "bike.append('Royal Enfield')\n",
    "print(bike)"
   ]
  },
  {
   "cell_type": "code",
   "execution_count": 8,
   "metadata": {},
   "outputs": [
    {
     "name": "stdout",
     "output_type": "stream",
     "text": [
      "['R15', 'MT', 'RX100', 'RS200', 'NS200', 'NS160', 'SPLENDER+', 'BMW', 'CBR', 'GT', 'KTM DUKE', 'APACHE', 'Royal Enfield', 'Royal Enfield', 'Triumph', 'Himalayan']\n"
     ]
    }
   ],
   "source": [
    "bike_new=['Triumph','Himalayan']\n",
    "bike.extend(bike_new)\n",
    "print(bike)"
   ]
  },
  {
   "cell_type": "code",
   "execution_count": 9,
   "metadata": {},
   "outputs": [
    {
     "name": "stdout",
     "output_type": "stream",
     "text": [
      "['Hero', 'R15', 'MT', 'RX100', 'RS200', 'NS200', 'NS160', 'SPLENDER+', 'BMW', 'CBR', 'GT', 'KTM DUKE', 'APACHE', 'Royal Enfield', 'Royal Enfield', 'Triumph', 'Himalayan']\n"
     ]
    }
   ],
   "source": [
    "bike.insert(0,'Hero')\n",
    "print(bike)"
   ]
  },
  {
   "cell_type": "code",
   "execution_count": 13,
   "metadata": {},
   "outputs": [
    {
     "name": "stdout",
     "output_type": "stream",
     "text": [
      "['RX100', 'RS200', 'NS200', 'NS160', 'SPLENDER+', 'BMW', 'CBR', 'GT', 'KTM DUKE', 'APACHE', 'Royal Enfield', 'Royal Enfield', 'Triumph', 'Himalayan']\n"
     ]
    }
   ],
   "source": [
    "bike.remove(\"R15\")\n",
    "print(bike)"
   ]
  },
  {
   "cell_type": "code",
   "execution_count": 14,
   "metadata": {},
   "outputs": [
    {
     "name": "stdout",
     "output_type": "stream",
     "text": [
      "['RX100', 'RS200', 'NS200', 'NS160', 'SPLENDER+', 'BMW', 'CBR', 'GT', 'KTM DUKE', 'APACHE', 'Royal Enfield', 'Royal Enfield', 'Triumph']\n"
     ]
    }
   ],
   "source": [
    "bike.pop()\n",
    "print(bike)"
   ]
  },
  {
   "cell_type": "code",
   "execution_count": 15,
   "metadata": {},
   "outputs": [
    {
     "name": "stdout",
     "output_type": "stream",
     "text": [
      "['RX100', 'RS200', 'NS200', 'NS160', 'SPLENDER+', 'BMW', 'CBR', 'GT', 'KTM DUKE', 'APACHE', 'Royal Enfield', 'Triumph']\n"
     ]
    }
   ],
   "source": [
    "bike.pop(10)\n",
    "print(bike)"
   ]
  },
  {
   "cell_type": "code",
   "execution_count": 16,
   "metadata": {},
   "outputs": [
    {
     "name": "stdout",
     "output_type": "stream",
     "text": [
      "5\n"
     ]
    }
   ],
   "source": [
    "print(bike.index('BMW'))"
   ]
  },
  {
   "cell_type": "code",
   "execution_count": 20,
   "metadata": {},
   "outputs": [
    {
     "name": "stdout",
     "output_type": "stream",
     "text": [
      "1\n"
     ]
    }
   ],
   "source": [
    "a=bike.count('GT')\n",
    "print(a)"
   ]
  },
  {
   "cell_type": "code",
   "execution_count": 21,
   "metadata": {},
   "outputs": [
    {
     "name": "stdout",
     "output_type": "stream",
     "text": [
      "['APACHE', 'BMW', 'CBR', 'GT', 'KTM DUKE', 'NS160', 'NS200', 'RS200', 'RX100', 'Royal Enfield', 'SPLENDER+', 'Triumph']\n"
     ]
    }
   ],
   "source": [
    "bike.sort()\n",
    "print(bike)"
   ]
  },
  {
   "cell_type": "code",
   "execution_count": 22,
   "metadata": {},
   "outputs": [
    {
     "name": "stdout",
     "output_type": "stream",
     "text": [
      "['Triumph', 'SPLENDER+', 'Royal Enfield', 'RX100', 'RS200', 'NS200', 'NS160', 'KTM DUKE', 'GT', 'CBR', 'BMW', 'APACHE']\n"
     ]
    }
   ],
   "source": [
    "bike.reverse()\n",
    "print(bike)"
   ]
  },
  {
   "cell_type": "code",
   "execution_count": 23,
   "metadata": {},
   "outputs": [
    {
     "name": "stdout",
     "output_type": "stream",
     "text": [
      "['Triumph', 'SPLENDER+', 'Royal Enfield', 'RX100', 'RS200', 'NS200', 'NS160', 'KTM DUKE', 'GT', 'CBR', 'BMW', 'APACHE'] 2301840290560 2301840903168\n"
     ]
    }
   ],
   "source": [
    "bike_copy=bike.copy()\n",
    "print(bike_copy,id(bike),id(bike_copy))"
   ]
  },
  {
   "cell_type": "code",
   "execution_count": 24,
   "metadata": {},
   "outputs": [
    {
     "name": "stdout",
     "output_type": "stream",
     "text": [
      "[]\n"
     ]
    }
   ],
   "source": [
    "#deep copy\n",
    "bike_copy.clear()\n",
    "print(bike_copy)"
   ]
  },
  {
   "cell_type": "code",
   "execution_count": 25,
   "metadata": {},
   "outputs": [
    {
     "name": "stdout",
     "output_type": "stream",
     "text": [
      "['Triumph', 'SPLENDER+', 'Royal Enfield', 'RX100', 'RS200', 'NS200', 'NS160', 'KTM DUKE', 'GT', 'CBR', 'BMW', 'APACHE'] 2301840290560 2301840290560\n"
     ]
    }
   ],
   "source": [
    "#shallow copy\n",
    "bike_copy=bike\n",
    "print(bike_copy,id(bike),id(bike_copy))"
   ]
  },
  {
   "cell_type": "code",
   "execution_count": 26,
   "metadata": {},
   "outputs": [
    {
     "name": "stdout",
     "output_type": "stream",
     "text": [
      "['Triumph', 'SPLENDER+', 'Royal Enfield', 'RX100', 'RS200', 'NS200', 'NS160', 'KTM DUKE', 'GT', 'CBR', 'BMW']\n"
     ]
    }
   ],
   "source": [
    "bike_copy.pop()\n",
    "print(bike)"
   ]
  },
  {
   "cell_type": "code",
   "execution_count": null,
   "metadata": {},
   "outputs": [],
   "source": []
  }
 ],
 "metadata": {
  "kernelspec": {
   "display_name": "venv",
   "language": "python",
   "name": "python3"
  },
  "language_info": {
   "codemirror_mode": {
    "name": "ipython",
    "version": 3
   },
   "file_extension": ".py",
   "mimetype": "text/x-python",
   "name": "python",
   "nbconvert_exporter": "python",
   "pygments_lexer": "ipython3",
   "version": "3.12.0"
  }
 },
 "nbformat": 4,
 "nbformat_minor": 2
}
