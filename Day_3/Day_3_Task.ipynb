{
 "cells": [
  {
   "cell_type": "code",
   "execution_count": 26,
   "metadata": {},
   "outputs": [],
   "source": [
    "arr1=[]\n",
    "for i in range(1,101):\n",
    "    if i%5==0 and i%10!=0:\n",
    "        arr1.append(i)"
   ]
  },
  {
   "cell_type": "code",
   "execution_count": 27,
   "metadata": {},
   "outputs": [
    {
     "name": "stdout",
     "output_type": "stream",
     "text": [
      "[25, 225, 625, 1225, 2025, 3025, 4225, 5625, 7225, 9025]\n"
     ]
    }
   ],
   "source": [
    "print(list(map(lambda x:x**2,arr1)))"
   ]
  },
  {
   "cell_type": "code",
   "execution_count": 28,
   "metadata": {},
   "outputs": [
    {
     "name": "stdout",
     "output_type": "stream",
     "text": [
      "[5, 13, 21, 29, 37, 45, 53, 61, 69, 77, 85, 93]\n"
     ]
    }
   ],
   "source": [
    "arr2=list(map(lambda x : x,range(5,101,8)))\n",
    "print(arr2)"
   ]
  },
  {
   "cell_type": "code",
   "execution_count": 30,
   "metadata": {},
   "outputs": [
    {
     "name": "stdout",
     "output_type": "stream",
     "text": [
      "588\n"
     ]
    }
   ],
   "source": [
    "from functools import reduce\n",
    "print(reduce(lambda x,y:x+y,arr2))"
   ]
  },
  {
   "cell_type": "code",
   "execution_count": 32,
   "metadata": {},
   "outputs": [
    {
     "name": "stdout",
     "output_type": "stream",
     "text": [
      "[1, 2, 4, 8, 16, 32, 64, 128]\n"
     ]
    }
   ],
   "source": [
    "arr3=[]\n",
    "i=1\n",
    "arr3.append(i)\n",
    "while (True):\n",
    "    i*=2\n",
    "    if i <= 150:\n",
    "        arr3.append(i)\n",
    "    else:\n",
    "        break\n",
    "print(arr3)"
   ]
  },
  {
   "cell_type": "code",
   "execution_count": 33,
   "metadata": {},
   "outputs": [
    {
     "name": "stdout",
     "output_type": "stream",
     "text": [
      "255\n"
     ]
    }
   ],
   "source": [
    "print(reduce(lambda x,y:x+y,arr3))"
   ]
  },
  {
   "cell_type": "code",
   "execution_count": 35,
   "metadata": {},
   "outputs": [
    {
     "name": "stdout",
     "output_type": "stream",
     "text": [
      "['WIPRO', 'HCL', 'ACCENTURE', 'AMAZON', 'GOOGLE']\n",
      "['wipro', 'hcl', 'accenture', 'amazon', 'google']\n",
      "['Wipro', 'Hcl', 'Accenture', 'Amazon', 'Google']\n"
     ]
    }
   ],
   "source": [
    "company=['wipro','hcl','accenture','amazon','google']\n",
    "upper_company=[x.upper() for x in company]\n",
    "print(upper_company)\n",
    "lower_company=[x.lower() for x in company]\n",
    "print(lower_company)\n",
    "title_company=[x.title() for x in company]\n",
    "print(title_company)"
   ]
  },
  {
   "cell_type": "code",
   "execution_count": null,
   "metadata": {},
   "outputs": [],
   "source": []
  }
 ],
 "metadata": {
  "kernelspec": {
   "display_name": "venv",
   "language": "python",
   "name": "python3"
  },
  "language_info": {
   "codemirror_mode": {
    "name": "ipython",
    "version": 3
   },
   "file_extension": ".py",
   "mimetype": "text/x-python",
   "name": "python",
   "nbconvert_exporter": "python",
   "pygments_lexer": "ipython3",
   "version": "3.12.0"
  }
 },
 "nbformat": 4,
 "nbformat_minor": 2
}
